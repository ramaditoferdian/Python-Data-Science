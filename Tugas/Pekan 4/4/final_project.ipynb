{
 "cells": [
  {
   "cell_type": "code",
   "execution_count": 1,
   "metadata": {},
   "outputs": [],
   "source": [
    "import pandas as pd\n",
    "from sklearn.preprocessing import MinMaxScaler\n",
    "import seaborn as sns\n",
    "import matplotlib.pyplot as plt\n",
    "import numpy as np\n",
    "from sklearn.cluster import KMeans"
   ]
  },
  {
   "cell_type": "markdown",
   "metadata": {},
   "source": [
    "## 1. Business/Project Understanding\n",
    "\n",
    "Explain project's background and requirement."
   ]
  },
  {
   "cell_type": "markdown",
   "metadata": {},
   "source": [
    "***Objective:***\n",
    "\n",
    "Untuk mengkategorikan negara menggunakan faktor sosial ekonomi dan kesehatan yang menentukan pembangunan negara secara keseluruhan.\n",
    "\n",
    "\n",
    "***Tentang Organisasi:***\n",
    "\n",
    "HELP International adalah LSM kemanusiaan internasional yang berkomitmen untuk memerangi kemiskinan dan menyediakan fasilitas dan bantuan dasar bagi masyarakat di negara-negara terbelakang saat terjadi bencana dan bencana alam.\n",
    "\n",
    " \n",
    "\n",
    "***Permasalahan:***\n",
    "\n",
    "HELP International telah berhasil mengumpulkan sekitar $ 10 juta. Saat ini, CEO LSM perlu memutuskan bagaimana menggunakan uang ini secara strategis dan efektif. Jadi, CEO harus mengambil keputusan untuk memilih negara yang paling membutuhkan bantuan. Oleh karena itu, Tugas teman-teman  adalah mengkategorikan negara menggunakan beberapa faktor sosial ekonomi dan kesehatan yang menentukan perkembangan negara secara keseluruhan. Kemudian kalian perlu menyarankan negara mana saja  yang paling perlu menjadi fokus CEO.\n",
    "\n",
    " \n",
    "\n",
    "***Penjelasan kolom fitur:***\n",
    "\n",
    "- Negara : Nama negara\n",
    "\n",
    "- Kematian_anak: Kematian anak di bawah usia 5 tahun per 1000 kelahiran\n",
    "\n",
    "- Ekspor : Ekspor barang dan jasa perkapita\n",
    "\n",
    "- Kesehatan: Total pengeluaran kesehatan perkapita\n",
    "\n",
    "- Impor: Impor barang dan jasa perkapita\n",
    "\n",
    "- Pendapatan: Penghasilan bersih perorang\n",
    "\n",
    "- Inflasi: Pengukuran tingkat pertumbuhan tahunan dari Total GDP \n",
    "\n",
    "- Harapan_hidup: Jumlah tahun rata-rata seorang anak yang baru lahir akan hidup jika pola kematian saat ini tetap sama\n",
    "\n",
    "- Jumlah_fertiliti: Jumlah anak yang akan lahir dari setiap wanita jika tingkat kesuburan usia saat ini tetap sama\n",
    "\n",
    "- GDPperkapita: GDP per kapita. Dihitung sebagai Total GDP dibagi dengan total populasi. \n"
   ]
  },
  {
   "cell_type": "code",
   "execution_count": 2,
   "metadata": {},
   "outputs": [
    {
     "data": {
      "text/html": [
       "<div>\n",
       "<style scoped>\n",
       "    .dataframe tbody tr th:only-of-type {\n",
       "        vertical-align: middle;\n",
       "    }\n",
       "\n",
       "    .dataframe tbody tr th {\n",
       "        vertical-align: top;\n",
       "    }\n",
       "\n",
       "    .dataframe thead th {\n",
       "        text-align: right;\n",
       "    }\n",
       "</style>\n",
       "<table border=\"1\" class=\"dataframe\">\n",
       "  <thead>\n",
       "    <tr style=\"text-align: right;\">\n",
       "      <th></th>\n",
       "      <th>Negara</th>\n",
       "      <th>Kematian_anak</th>\n",
       "      <th>Ekspor</th>\n",
       "      <th>Kesehatan</th>\n",
       "      <th>Impor</th>\n",
       "      <th>Pendapatan</th>\n",
       "      <th>Inflasi</th>\n",
       "      <th>Harapan_hidup</th>\n",
       "      <th>Jumlah_fertiliti</th>\n",
       "      <th>GDPperkapita</th>\n",
       "    </tr>\n",
       "  </thead>\n",
       "  <tbody>\n",
       "    <tr>\n",
       "      <th>0</th>\n",
       "      <td>Afghanistan</td>\n",
       "      <td>90.2</td>\n",
       "      <td>10.0</td>\n",
       "      <td>7.58</td>\n",
       "      <td>44.9</td>\n",
       "      <td>1610</td>\n",
       "      <td>9.44</td>\n",
       "      <td>56.2</td>\n",
       "      <td>5.82</td>\n",
       "      <td>553</td>\n",
       "    </tr>\n",
       "    <tr>\n",
       "      <th>1</th>\n",
       "      <td>Albania</td>\n",
       "      <td>16.6</td>\n",
       "      <td>28.0</td>\n",
       "      <td>6.55</td>\n",
       "      <td>48.6</td>\n",
       "      <td>9930</td>\n",
       "      <td>4.49</td>\n",
       "      <td>76.3</td>\n",
       "      <td>1.65</td>\n",
       "      <td>4090</td>\n",
       "    </tr>\n",
       "    <tr>\n",
       "      <th>2</th>\n",
       "      <td>Algeria</td>\n",
       "      <td>27.3</td>\n",
       "      <td>38.4</td>\n",
       "      <td>4.17</td>\n",
       "      <td>31.4</td>\n",
       "      <td>12900</td>\n",
       "      <td>16.10</td>\n",
       "      <td>76.5</td>\n",
       "      <td>2.89</td>\n",
       "      <td>4460</td>\n",
       "    </tr>\n",
       "    <tr>\n",
       "      <th>3</th>\n",
       "      <td>Angola</td>\n",
       "      <td>119.0</td>\n",
       "      <td>62.3</td>\n",
       "      <td>2.85</td>\n",
       "      <td>42.9</td>\n",
       "      <td>5900</td>\n",
       "      <td>22.40</td>\n",
       "      <td>60.1</td>\n",
       "      <td>6.16</td>\n",
       "      <td>3530</td>\n",
       "    </tr>\n",
       "    <tr>\n",
       "      <th>4</th>\n",
       "      <td>Antigua and Barbuda</td>\n",
       "      <td>10.3</td>\n",
       "      <td>45.5</td>\n",
       "      <td>6.03</td>\n",
       "      <td>58.9</td>\n",
       "      <td>19100</td>\n",
       "      <td>1.44</td>\n",
       "      <td>76.8</td>\n",
       "      <td>2.13</td>\n",
       "      <td>12200</td>\n",
       "    </tr>\n",
       "  </tbody>\n",
       "</table>\n",
       "</div>"
      ],
      "text/plain": [
       "                Negara  Kematian_anak  Ekspor  Kesehatan  Impor  Pendapatan  \\\n",
       "0          Afghanistan           90.2    10.0       7.58   44.9        1610   \n",
       "1              Albania           16.6    28.0       6.55   48.6        9930   \n",
       "2              Algeria           27.3    38.4       4.17   31.4       12900   \n",
       "3               Angola          119.0    62.3       2.85   42.9        5900   \n",
       "4  Antigua and Barbuda           10.3    45.5       6.03   58.9       19100   \n",
       "\n",
       "   Inflasi  Harapan_hidup  Jumlah_fertiliti  GDPperkapita  \n",
       "0     9.44           56.2              5.82           553  \n",
       "1     4.49           76.3              1.65          4090  \n",
       "2    16.10           76.5              2.89          4460  \n",
       "3    22.40           60.1              6.16          3530  \n",
       "4     1.44           76.8              2.13         12200  "
      ]
     },
     "execution_count": 2,
     "metadata": {},
     "output_type": "execute_result"
    }
   ],
   "source": [
    "\n",
    "df = pd.read_csv('Data_Negara_HELP.csv')\n",
    "df.head()"
   ]
  },
  {
   "cell_type": "code",
   "execution_count": 3,
   "metadata": {},
   "outputs": [
    {
     "name": "stdout",
     "output_type": "stream",
     "text": [
      "<class 'pandas.core.frame.DataFrame'>\n",
      "RangeIndex: 167 entries, 0 to 166\n",
      "Data columns (total 10 columns):\n",
      " #   Column            Non-Null Count  Dtype  \n",
      "---  ------            --------------  -----  \n",
      " 0   Negara            167 non-null    object \n",
      " 1   Kematian_anak     167 non-null    float64\n",
      " 2   Ekspor            167 non-null    float64\n",
      " 3   Kesehatan         167 non-null    float64\n",
      " 4   Impor             167 non-null    float64\n",
      " 5   Pendapatan        167 non-null    int64  \n",
      " 6   Inflasi           167 non-null    float64\n",
      " 7   Harapan_hidup     167 non-null    float64\n",
      " 8   Jumlah_fertiliti  167 non-null    float64\n",
      " 9   GDPperkapita      167 non-null    int64  \n",
      "dtypes: float64(7), int64(2), object(1)\n",
      "memory usage: 13.2+ KB\n"
     ]
    }
   ],
   "source": [
    "df.info()"
   ]
  },
  {
   "cell_type": "markdown",
   "metadata": {},
   "source": [
    "`Dataframe memiliki 167 Rows dan 10 Columns`"
   ]
  },
  {
   "cell_type": "code",
   "execution_count": 4,
   "metadata": {},
   "outputs": [
    {
     "data": {
      "text/html": [
       "<div>\n",
       "<style scoped>\n",
       "    .dataframe tbody tr th:only-of-type {\n",
       "        vertical-align: middle;\n",
       "    }\n",
       "\n",
       "    .dataframe tbody tr th {\n",
       "        vertical-align: top;\n",
       "    }\n",
       "\n",
       "    .dataframe thead th {\n",
       "        text-align: right;\n",
       "    }\n",
       "</style>\n",
       "<table border=\"1\" class=\"dataframe\">\n",
       "  <thead>\n",
       "    <tr style=\"text-align: right;\">\n",
       "      <th></th>\n",
       "      <th>Kematian_anak</th>\n",
       "      <th>Ekspor</th>\n",
       "      <th>Kesehatan</th>\n",
       "      <th>Impor</th>\n",
       "      <th>Pendapatan</th>\n",
       "      <th>Inflasi</th>\n",
       "      <th>Harapan_hidup</th>\n",
       "      <th>Jumlah_fertiliti</th>\n",
       "      <th>GDPperkapita</th>\n",
       "    </tr>\n",
       "  </thead>\n",
       "  <tbody>\n",
       "    <tr>\n",
       "      <th>count</th>\n",
       "      <td>167.000000</td>\n",
       "      <td>167.000000</td>\n",
       "      <td>167.000000</td>\n",
       "      <td>167.000000</td>\n",
       "      <td>167.000000</td>\n",
       "      <td>167.000000</td>\n",
       "      <td>167.000000</td>\n",
       "      <td>167.000000</td>\n",
       "      <td>167.000000</td>\n",
       "    </tr>\n",
       "    <tr>\n",
       "      <th>mean</th>\n",
       "      <td>38.270060</td>\n",
       "      <td>41.108976</td>\n",
       "      <td>6.815689</td>\n",
       "      <td>46.890215</td>\n",
       "      <td>17144.688623</td>\n",
       "      <td>7.781832</td>\n",
       "      <td>70.555689</td>\n",
       "      <td>2.947964</td>\n",
       "      <td>12964.155689</td>\n",
       "    </tr>\n",
       "    <tr>\n",
       "      <th>std</th>\n",
       "      <td>40.328931</td>\n",
       "      <td>27.412010</td>\n",
       "      <td>2.746837</td>\n",
       "      <td>24.209589</td>\n",
       "      <td>19278.067698</td>\n",
       "      <td>10.570704</td>\n",
       "      <td>8.893172</td>\n",
       "      <td>1.513848</td>\n",
       "      <td>18328.704809</td>\n",
       "    </tr>\n",
       "    <tr>\n",
       "      <th>min</th>\n",
       "      <td>2.600000</td>\n",
       "      <td>0.109000</td>\n",
       "      <td>1.810000</td>\n",
       "      <td>0.065900</td>\n",
       "      <td>609.000000</td>\n",
       "      <td>-4.210000</td>\n",
       "      <td>32.100000</td>\n",
       "      <td>1.150000</td>\n",
       "      <td>231.000000</td>\n",
       "    </tr>\n",
       "    <tr>\n",
       "      <th>25%</th>\n",
       "      <td>8.250000</td>\n",
       "      <td>23.800000</td>\n",
       "      <td>4.920000</td>\n",
       "      <td>30.200000</td>\n",
       "      <td>3355.000000</td>\n",
       "      <td>1.810000</td>\n",
       "      <td>65.300000</td>\n",
       "      <td>1.795000</td>\n",
       "      <td>1330.000000</td>\n",
       "    </tr>\n",
       "    <tr>\n",
       "      <th>50%</th>\n",
       "      <td>19.300000</td>\n",
       "      <td>35.000000</td>\n",
       "      <td>6.320000</td>\n",
       "      <td>43.300000</td>\n",
       "      <td>9960.000000</td>\n",
       "      <td>5.390000</td>\n",
       "      <td>73.100000</td>\n",
       "      <td>2.410000</td>\n",
       "      <td>4660.000000</td>\n",
       "    </tr>\n",
       "    <tr>\n",
       "      <th>75%</th>\n",
       "      <td>62.100000</td>\n",
       "      <td>51.350000</td>\n",
       "      <td>8.600000</td>\n",
       "      <td>58.750000</td>\n",
       "      <td>22800.000000</td>\n",
       "      <td>10.750000</td>\n",
       "      <td>76.800000</td>\n",
       "      <td>3.880000</td>\n",
       "      <td>14050.000000</td>\n",
       "    </tr>\n",
       "    <tr>\n",
       "      <th>max</th>\n",
       "      <td>208.000000</td>\n",
       "      <td>200.000000</td>\n",
       "      <td>17.900000</td>\n",
       "      <td>174.000000</td>\n",
       "      <td>125000.000000</td>\n",
       "      <td>104.000000</td>\n",
       "      <td>82.800000</td>\n",
       "      <td>7.490000</td>\n",
       "      <td>105000.000000</td>\n",
       "    </tr>\n",
       "  </tbody>\n",
       "</table>\n",
       "</div>"
      ],
      "text/plain": [
       "       Kematian_anak      Ekspor   Kesehatan       Impor     Pendapatan  \\\n",
       "count     167.000000  167.000000  167.000000  167.000000     167.000000   \n",
       "mean       38.270060   41.108976    6.815689   46.890215   17144.688623   \n",
       "std        40.328931   27.412010    2.746837   24.209589   19278.067698   \n",
       "min         2.600000    0.109000    1.810000    0.065900     609.000000   \n",
       "25%         8.250000   23.800000    4.920000   30.200000    3355.000000   \n",
       "50%        19.300000   35.000000    6.320000   43.300000    9960.000000   \n",
       "75%        62.100000   51.350000    8.600000   58.750000   22800.000000   \n",
       "max       208.000000  200.000000   17.900000  174.000000  125000.000000   \n",
       "\n",
       "          Inflasi  Harapan_hidup  Jumlah_fertiliti   GDPperkapita  \n",
       "count  167.000000     167.000000        167.000000     167.000000  \n",
       "mean     7.781832      70.555689          2.947964   12964.155689  \n",
       "std     10.570704       8.893172          1.513848   18328.704809  \n",
       "min     -4.210000      32.100000          1.150000     231.000000  \n",
       "25%      1.810000      65.300000          1.795000    1330.000000  \n",
       "50%      5.390000      73.100000          2.410000    4660.000000  \n",
       "75%     10.750000      76.800000          3.880000   14050.000000  \n",
       "max    104.000000      82.800000          7.490000  105000.000000  "
      ]
     },
     "execution_count": 4,
     "metadata": {},
     "output_type": "execute_result"
    }
   ],
   "source": [
    "df.describe()"
   ]
  },
  {
   "cell_type": "markdown",
   "metadata": {},
   "source": [
    "## Multivariate Analysis with Heatmap"
   ]
  },
  {
   "cell_type": "code",
   "execution_count": 5,
   "metadata": {},
   "outputs": [
    {
     "data": {
      "text/plain": [
       "<AxesSubplot:>"
      ]
     },
     "execution_count": 5,
     "metadata": {},
     "output_type": "execute_result"
    },
    {
     "data": {
      "image/png": "[encoded data removed]",
      "text/plain": [
       "<Figure size 432x288 with 2 Axes>"
      ]
     },
     "metadata": {
      "needs_background": "light"
     },
     "output_type": "display_data"
    }
   ],
   "source": [
    "sns.heatmap(df.corr(), mask=np.triu(np.ones_like(df.corr())), annot=True)"
   ]
  },
  {
   "cell_type": "code",
   "execution_count": 6,
   "metadata": {},
   "outputs": [],
   "source": [
    "sns.pairplot(df, corner=True);"
   ]
  },
  {
   "cell_type": "markdown",
   "metadata": {},
   "source": [
    "`Berdasarkan heatmap, kami memutuskan mengevaluasi kolom 'Kematian_anak' dan 'Pendapatan' dikarenakan memiliki korelasi negatif yang cukup tinggi dan juga kedua kolom tersebut relevan dengan tujuan yaitu menentukan Negara mana yang perlu menerima bantuan berdasarkan tingkat Ekonomi dan Kesehatan`"
   ]
  },
  {
   "cell_type": "code",
   "execution_count": 7,
   "metadata": {},
   "outputs": [
    {
     "data": {
      "text/html": [
       "<div>\n",
       "<style scoped>\n",
       "    .dataframe tbody tr th:only-of-type {\n",
       "        vertical-align: middle;\n",
       "    }\n",
       "\n",
       "    .dataframe tbody tr th {\n",
       "        vertical-align: top;\n",
       "    }\n",
       "\n",
       "    .dataframe thead th {\n",
       "        text-align: right;\n",
       "    }\n",
       "</style>\n",
       "<table border=\"1\" class=\"dataframe\">\n",
       "  <thead>\n",
       "    <tr style=\"text-align: right;\">\n",
       "      <th></th>\n",
       "      <th>Negara</th>\n",
       "      <th>Kematian_anak</th>\n",
       "      <th>Pendapatan</th>\n",
       "    </tr>\n",
       "  </thead>\n",
       "  <tbody>\n",
       "    <tr>\n",
       "      <th>0</th>\n",
       "      <td>Afghanistan</td>\n",
       "      <td>90.2</td>\n",
       "      <td>1610</td>\n",
       "    </tr>\n",
       "    <tr>\n",
       "      <th>1</th>\n",
       "      <td>Albania</td>\n",
       "      <td>16.6</td>\n",
       "      <td>9930</td>\n",
       "    </tr>\n",
       "    <tr>\n",
       "      <th>2</th>\n",
       "      <td>Algeria</td>\n",
       "      <td>27.3</td>\n",
       "      <td>12900</td>\n",
       "    </tr>\n",
       "    <tr>\n",
       "      <th>3</th>\n",
       "      <td>Angola</td>\n",
       "      <td>119.0</td>\n",
       "      <td>5900</td>\n",
       "    </tr>\n",
       "    <tr>\n",
       "      <th>4</th>\n",
       "      <td>Antigua and Barbuda</td>\n",
       "      <td>10.3</td>\n",
       "      <td>19100</td>\n",
       "    </tr>\n",
       "    <tr>\n",
       "      <th>...</th>\n",
       "      <td>...</td>\n",
       "      <td>...</td>\n",
       "      <td>...</td>\n",
       "    </tr>\n",
       "    <tr>\n",
       "      <th>162</th>\n",
       "      <td>Vanuatu</td>\n",
       "      <td>29.2</td>\n",
       "      <td>2950</td>\n",
       "    </tr>\n",
       "    <tr>\n",
       "      <th>163</th>\n",
       "      <td>Venezuela</td>\n",
       "      <td>17.1</td>\n",
       "      <td>16500</td>\n",
       "    </tr>\n",
       "    <tr>\n",
       "      <th>164</th>\n",
       "      <td>Vietnam</td>\n",
       "      <td>23.3</td>\n",
       "      <td>4490</td>\n",
       "    </tr>\n",
       "    <tr>\n",
       "      <th>165</th>\n",
       "      <td>Yemen</td>\n",
       "      <td>56.3</td>\n",
       "      <td>4480</td>\n",
       "    </tr>\n",
       "    <tr>\n",
       "      <th>166</th>\n",
       "      <td>Zambia</td>\n",
       "      <td>83.1</td>\n",
       "      <td>3280</td>\n",
       "    </tr>\n",
       "  </tbody>\n",
       "</table>\n",
       "<p>167 rows × 3 columns</p>\n",
       "</div>"
      ],
      "text/plain": [
       "                  Negara  Kematian_anak  Pendapatan\n",
       "0            Afghanistan           90.2        1610\n",
       "1                Albania           16.6        9930\n",
       "2                Algeria           27.3       12900\n",
       "3                 Angola          119.0        5900\n",
       "4    Antigua and Barbuda           10.3       19100\n",
       "..                   ...            ...         ...\n",
       "162              Vanuatu           29.2        2950\n",
       "163            Venezuela           17.1       16500\n",
       "164              Vietnam           23.3        4490\n",
       "165                Yemen           56.3        4480\n",
       "166               Zambia           83.1        3280\n",
       "\n",
       "[167 rows x 3 columns]"
      ]
     },
     "execution_count": 7,
     "metadata": {},
     "output_type": "execute_result"
    }
   ],
   "source": [
    "df_new = df[['Negara','Kematian_anak', 'Pendapatan']]\n",
    "\n",
    "df_new"
   ]
  },
  {
   "cell_type": "markdown",
   "metadata": {},
   "source": [
    "## Data Cleaning"
   ]
  },
  {
   "cell_type": "markdown",
   "metadata": {},
   "source": [
    "### 1. Missing Value\n",
    "\n",
    "- Check if exist.\n",
    "- Handle if exist.\n",
    "- Recheck after handling (see the handling result).\n",
    "- Elaborate how exactly you handle them.\n",
    "- Elaborate why do you handle them in such way."
   ]
  },
  {
   "cell_type": "code",
   "execution_count": 8,
   "metadata": {},
   "outputs": [
    {
     "name": "stdout",
     "output_type": "stream",
     "text": [
      "<class 'pandas.core.frame.DataFrame'>\n",
      "RangeIndex: 167 entries, 0 to 166\n",
      "Data columns (total 3 columns):\n",
      " #   Column         Non-Null Count  Dtype  \n",
      "---  ------         --------------  -----  \n",
      " 0   Negara         167 non-null    object \n",
      " 1   Kematian_anak  167 non-null    float64\n",
      " 2   Pendapatan     167 non-null    int64  \n",
      "dtypes: float64(1), int64(1), object(1)\n",
      "memory usage: 4.0+ KB\n"
     ]
    }
   ],
   "source": [
    "df_new.info()"
   ]
  },
  {
   "cell_type": "markdown",
   "metadata": {},
   "source": [
    "`Tidak ditemukan missing value pada dataframe`"
   ]
  },
  {
   "cell_type": "markdown",
   "metadata": {},
   "source": [
    "### 2. Outliers\n",
    "- Check if exist (Even better if graphical representation is used).\n",
    "- Handle if exist.\n",
    "- Recheck after handling (see the handling result).\n",
    "- Elaborate how exactly you handle them.\n",
    "- Elaborate why do you handle them in such way."
   ]
  },
  {
   "cell_type": "markdown",
   "metadata": {},
   "source": [
    "`\n",
    "Pada kasus ini kami tidak melakukan penghapusan pada data yang merupakan outliers, namun kami mengganti value yang merupakan outliers dengan mean dari data tersebut.\n",
    "`"
   ]
  },
  {
   "cell_type": "code",
   "execution_count": 9,
   "metadata": {},
   "outputs": [
    {
     "data": {
      "text/html": [
       "<div>\n",
       "<style scoped>\n",
       "    .dataframe tbody tr th:only-of-type {\n",
       "        vertical-align: middle;\n",
       "    }\n",
       "\n",
       "    .dataframe tbody tr th {\n",
       "        vertical-align: top;\n",
       "    }\n",
       "\n",
       "    .dataframe thead th {\n",
       "        text-align: right;\n",
       "    }\n",
       "</style>\n",
       "<table border=\"1\" class=\"dataframe\">\n",
       "  <thead>\n",
       "    <tr style=\"text-align: right;\">\n",
       "      <th></th>\n",
       "      <th>Kematian_anak</th>\n",
       "      <th>Pendapatan</th>\n",
       "    </tr>\n",
       "  </thead>\n",
       "  <tbody>\n",
       "    <tr>\n",
       "      <th>count</th>\n",
       "      <td>167.000000</td>\n",
       "      <td>167.000000</td>\n",
       "    </tr>\n",
       "    <tr>\n",
       "      <th>mean</th>\n",
       "      <td>38.270060</td>\n",
       "      <td>17144.688623</td>\n",
       "    </tr>\n",
       "    <tr>\n",
       "      <th>std</th>\n",
       "      <td>40.328931</td>\n",
       "      <td>19278.067698</td>\n",
       "    </tr>\n",
       "    <tr>\n",
       "      <th>min</th>\n",
       "      <td>2.600000</td>\n",
       "      <td>609.000000</td>\n",
       "    </tr>\n",
       "    <tr>\n",
       "      <th>25%</th>\n",
       "      <td>8.250000</td>\n",
       "      <td>3355.000000</td>\n",
       "    </tr>\n",
       "    <tr>\n",
       "      <th>50%</th>\n",
       "      <td>19.300000</td>\n",
       "      <td>9960.000000</td>\n",
       "    </tr>\n",
       "    <tr>\n",
       "      <th>75%</th>\n",
       "      <td>62.100000</td>\n",
       "      <td>22800.000000</td>\n",
       "    </tr>\n",
       "    <tr>\n",
       "      <th>max</th>\n",
       "      <td>208.000000</td>\n",
       "      <td>125000.000000</td>\n",
       "    </tr>\n",
       "  </tbody>\n",
       "</table>\n",
       "</div>"
      ],
      "text/plain": [
       "       Kematian_anak     Pendapatan\n",
       "count     167.000000     167.000000\n",
       "mean       38.270060   17144.688623\n",
       "std        40.328931   19278.067698\n",
       "min         2.600000     609.000000\n",
       "25%         8.250000    3355.000000\n",
       "50%        19.300000    9960.000000\n",
       "75%        62.100000   22800.000000\n",
       "max       208.000000  125000.000000"
      ]
     },
     "execution_count": 9,
     "metadata": {},
     "output_type": "execute_result"
    }
   ],
   "source": [
    "df_new.describe()"
   ]
  },
  {
   "cell_type": "code",
   "execution_count": 10,
   "metadata": {},
   "outputs": [],
   "source": [
    "def outliers(df, feature):\n",
    "    Q1= df[feature].quantile(0.25)\n",
    "    Q3 = df[feature].quantile(0.75)\n",
    "    IQR = Q3 - Q1\n",
    "    upper_limit = Q3 + 1.5 * IQR\n",
    "    lower_limit = Q1 - 1.5 * IQR\n",
    "    return lower_limit, upper_limit"
   ]
  },
  {
   "cell_type": "code",
   "execution_count": 11,
   "metadata": {},
   "outputs": [
    {
     "name": "stdout",
     "output_type": "stream",
     "text": [
      "-72.525\n",
      "142.875\n"
     ]
    }
   ],
   "source": [
    "Lb_feat1, Ub_feat1 = outliers(df_new, 'Kematian_anak')\n",
    "print(Lb_feat1)\n",
    "print(Ub_feat1)"
   ]
  },
  {
   "cell_type": "code",
   "execution_count": 12,
   "metadata": {},
   "outputs": [
    {
     "name": "stdout",
     "output_type": "stream",
     "text": [
      "-25812.5\n",
      "51967.5\n"
     ]
    }
   ],
   "source": [
    "Lb_feat2, Ub_feat2 = outliers(df_new, 'Pendapatan')\n",
    "print(Lb_feat2)\n",
    "print(Ub_feat2)"
   ]
  },
  {
   "cell_type": "code",
   "execution_count": 13,
   "metadata": {},
   "outputs": [
    {
     "data": {
      "text/html": [
       "<div>\n",
       "<style scoped>\n",
       "    .dataframe tbody tr th:only-of-type {\n",
       "        vertical-align: middle;\n",
       "    }\n",
       "\n",
       "    .dataframe tbody tr th {\n",
       "        vertical-align: top;\n",
       "    }\n",
       "\n",
       "    .dataframe thead th {\n",
       "        text-align: right;\n",
       "    }\n",
       "</style>\n",
       "<table border=\"1\" class=\"dataframe\">\n",
       "  <thead>\n",
       "    <tr style=\"text-align: right;\">\n",
       "      <th></th>\n",
       "      <th>Kematian_anak</th>\n",
       "      <th>Pendapatan</th>\n",
       "    </tr>\n",
       "  </thead>\n",
       "  <tbody>\n",
       "    <tr>\n",
       "      <th>count</th>\n",
       "      <td>167.000000</td>\n",
       "      <td>167.000000</td>\n",
       "    </tr>\n",
       "    <tr>\n",
       "      <th>mean</th>\n",
       "      <td>38.270060</td>\n",
       "      <td>17144.688623</td>\n",
       "    </tr>\n",
       "    <tr>\n",
       "      <th>std</th>\n",
       "      <td>40.328931</td>\n",
       "      <td>19278.067698</td>\n",
       "    </tr>\n",
       "    <tr>\n",
       "      <th>min</th>\n",
       "      <td>2.600000</td>\n",
       "      <td>609.000000</td>\n",
       "    </tr>\n",
       "    <tr>\n",
       "      <th>25%</th>\n",
       "      <td>8.250000</td>\n",
       "      <td>3355.000000</td>\n",
       "    </tr>\n",
       "    <tr>\n",
       "      <th>50%</th>\n",
       "      <td>19.300000</td>\n",
       "      <td>9960.000000</td>\n",
       "    </tr>\n",
       "    <tr>\n",
       "      <th>75%</th>\n",
       "      <td>62.100000</td>\n",
       "      <td>22800.000000</td>\n",
       "    </tr>\n",
       "    <tr>\n",
       "      <th>max</th>\n",
       "      <td>208.000000</td>\n",
       "      <td>125000.000000</td>\n",
       "    </tr>\n",
       "  </tbody>\n",
       "</table>\n",
       "</div>"
      ],
      "text/plain": [
       "       Kematian_anak     Pendapatan\n",
       "count     167.000000     167.000000\n",
       "mean       38.270060   17144.688623\n",
       "std        40.328931   19278.067698\n",
       "min         2.600000     609.000000\n",
       "25%         8.250000    3355.000000\n",
       "50%        19.300000    9960.000000\n",
       "75%        62.100000   22800.000000\n",
       "max       208.000000  125000.000000"
      ]
     },
     "execution_count": 13,
     "metadata": {},
     "output_type": "execute_result"
    }
   ],
   "source": [
    "df_new.describe()"
   ]
  },
  {
   "cell_type": "code",
   "execution_count": 14,
   "metadata": {},
   "outputs": [
    {
     "data": {
      "text/plain": [
       "<AxesSubplot:xlabel='Kematian_anak'>"
      ]
     },
     "execution_count": 14,
     "metadata": {},
     "output_type": "execute_result"
    },
    {
     "data": {
      "image/png": "[encoded data removed]",
      "text/plain": [
       "<Figure size 432x288 with 1 Axes>"
      ]
     },
     "metadata": {
      "needs_background": "light"
     },
     "output_type": "display_data"
    }
   ],
   "source": [
    "sns.boxplot(x=df_new[\"Kematian_anak\"])\n"
   ]
  },
  {
   "cell_type": "code",
   "execution_count": 15,
   "metadata": {},
   "outputs": [
    {
     "data": {
      "text/plain": [
       "<AxesSubplot:xlabel='Pendapatan'>"
      ]
     },
     "execution_count": 15,
     "metadata": {},
     "output_type": "execute_result"
    },
    {
     "data": {
      "image/png": "[encoded data removed]",
      "text/plain": [
       "<Figure size 432x288 with 1 Axes>"
      ]
     },
     "metadata": {
      "needs_background": "light"
     },
     "output_type": "display_data"
    }
   ],
   "source": [
    "sns.boxplot(x=df_new[\"Pendapatan\"])"
   ]
  },
  {
   "cell_type": "code",
   "execution_count": 16,
   "metadata": {},
   "outputs": [
    {
     "name": "stderr",
     "output_type": "stream",
     "text": [
      "/var/folders/br/dnqls7751tdb97g6z28kqgxw0000gn/T/ipykernel_94418/2186788753.py:8: SettingWithCopyWarning: \n",
      "A value is trying to be set on a copy of a slice from a DataFrame.\n",
      "Try using .loc[row_indexer,col_indexer] = value instead\n",
      "\n",
      "See the caveats in the documentation: https://pandas.pydata.org/pandas-docs/stable/user_guide/indexing.html#returning-a-view-versus-a-copy\n",
      "  df_new[\"Kematian_anak_Outlier\"] = False\n",
      "/var/folders/br/dnqls7751tdb97g6z28kqgxw0000gn/T/ipykernel_94418/2186788753.py:8: SettingWithCopyWarning: \n",
      "A value is trying to be set on a copy of a slice from a DataFrame.\n",
      "Try using .loc[row_indexer,col_indexer] = value instead\n",
      "\n",
      "See the caveats in the documentation: https://pandas.pydata.org/pandas-docs/stable/user_guide/indexing.html#returning-a-view-versus-a-copy\n",
      "  df_new[\"Kematian_anak_Outlier\"] = False\n"
     ]
    }
   ],
   "source": [
    "for i in range(2):    \n",
    "    Q1 = df_new[\"Kematian_anak\"].quantile(0.25)\n",
    "    Q3 = df_new[\"Kematian_anak\"].quantile(0.75)\n",
    "\n",
    "    IQR = Q3 - Q1\n",
    "    cutoff = Q1 + 1.5 * IQR\n",
    "\n",
    "    df_new[\"Kematian_anak_Outlier\"] = False\n",
    "\n",
    "    for index, row in df_new.iterrows():\n",
    "        if row[\"Kematian_anak\"] > cutoff:\n",
    "            df_new.at[index, 'Kematian_anak_Outlier'] = True\n",
    "\n",
    "\n",
    "\n",
    "    mean = df_new.groupby(\"Kematian_anak_Outlier\")[\"Kematian_anak\"].mean()\n",
    "    mean[0]\n",
    "\n",
    "\n",
    "    for index, row in df_new.iterrows():\n",
    "        if row[\"Kematian_anak_Outlier\"] == True:\n",
    "            df_new.at[index, 'Kematian_anak'] = mean[0]\n",
    "            df_new.at[index, 'Kematian_anak_Outlier'] = False"
   ]
  },
  {
   "cell_type": "code",
   "execution_count": 17,
   "metadata": {},
   "outputs": [
    {
     "data": {
      "text/plain": [
       "<AxesSubplot:xlabel='Kematian_anak'>"
      ]
     },
     "execution_count": 17,
     "metadata": {},
     "output_type": "execute_result"
    },
    {
     "data": {
      "image/png": "[encoded data removed]",
      "text/plain": [
       "<Figure size 432x288 with 1 Axes>"
      ]
     },
     "metadata": {
      "needs_background": "light"
     },
     "output_type": "display_data"
    }
   ],
   "source": [
    "sns.boxplot(x=df_new[\"Kematian_anak\"])\n"
   ]
  },
  {
   "cell_type": "code",
   "execution_count": 18,
   "metadata": {},
   "outputs": [
    {
     "name": "stderr",
     "output_type": "stream",
     "text": [
      "/var/folders/br/dnqls7751tdb97g6z28kqgxw0000gn/T/ipykernel_94418/1583765426.py:8: SettingWithCopyWarning: \n",
      "A value is trying to be set on a copy of a slice from a DataFrame.\n",
      "Try using .loc[row_indexer,col_indexer] = value instead\n",
      "\n",
      "See the caveats in the documentation: https://pandas.pydata.org/pandas-docs/stable/user_guide/indexing.html#returning-a-view-versus-a-copy\n",
      "  df_new[\"Pendapatan_Outlier\"] = False\n",
      "/var/folders/br/dnqls7751tdb97g6z28kqgxw0000gn/T/ipykernel_94418/1583765426.py:22: SettingWithCopyWarning: \n",
      "A value is trying to be set on a copy of a slice from a DataFrame.\n",
      "Try using .loc[row_indexer,col_indexer] = value instead\n",
      "\n",
      "See the caveats in the documentation: https://pandas.pydata.org/pandas-docs/stable/user_guide/indexing.html#returning-a-view-versus-a-copy\n",
      "  df_new.at[index, 'Pendapatan'] = mean[0]\n",
      "/var/folders/br/dnqls7751tdb97g6z28kqgxw0000gn/T/ipykernel_94418/1583765426.py:8: SettingWithCopyWarning: \n",
      "A value is trying to be set on a copy of a slice from a DataFrame.\n",
      "Try using .loc[row_indexer,col_indexer] = value instead\n",
      "\n",
      "See the caveats in the documentation: https://pandas.pydata.org/pandas-docs/stable/user_guide/indexing.html#returning-a-view-versus-a-copy\n",
      "  df_new[\"Pendapatan_Outlier\"] = False\n"
     ]
    }
   ],
   "source": [
    "\n",
    "for i in range(2):\n",
    "    Q1 = df_new[\"Pendapatan\"].quantile(0.25)\n",
    "    Q3 = df_new[\"Pendapatan\"].quantile(0.75)\n",
    "\n",
    "    IQR = Q3 - Q1\n",
    "    cutoff = Q1 + 1.5 * IQR\n",
    "\n",
    "    df_new[\"Pendapatan_Outlier\"] = False\n",
    "\n",
    "    for index, row in df_new.iterrows():\n",
    "        if row[\"Pendapatan\"] > cutoff:\n",
    "            df_new.at[index, 'Pendapatan_Outlier'] = True\n",
    "\n",
    "\n",
    "\n",
    "    mean = df_new.groupby(\"Pendapatan_Outlier\")[\"Pendapatan\"].mean()\n",
    "    mean[0]\n",
    "\n",
    "\n",
    "    for index, row in df_new.iterrows():\n",
    "        if row[\"Pendapatan_Outlier\"] == True:\n",
    "            df_new.at[index, 'Pendapatan'] = mean[0]\n",
    "            df_new.at[index, 'Pendapatan_Outlier'] = False"
   ]
  },
  {
   "cell_type": "code",
   "execution_count": 19,
   "metadata": {},
   "outputs": [
    {
     "data": {
      "text/plain": [
       "<AxesSubplot:xlabel='Pendapatan'>"
      ]
     },
     "execution_count": 19,
     "metadata": {},
     "output_type": "execute_result"
    },
    {
     "data": {
      "image/png": "[encoded data removed]",
      "text/plain": [
       "<Figure size 432x288 with 1 Axes>"
      ]
     },
     "metadata": {
      "needs_background": "light"
     },
     "output_type": "display_data"
    }
   ],
   "source": [
    "sns.boxplot(x=df_new[\"Pendapatan\"])\n"
   ]
  },
  {
   "cell_type": "code",
   "execution_count": 20,
   "metadata": {},
   "outputs": [
    {
     "data": {
      "text/html": [
       "<div>\n",
       "<style scoped>\n",
       "    .dataframe tbody tr th:only-of-type {\n",
       "        vertical-align: middle;\n",
       "    }\n",
       "\n",
       "    .dataframe tbody tr th {\n",
       "        vertical-align: top;\n",
       "    }\n",
       "\n",
       "    .dataframe thead th {\n",
       "        text-align: right;\n",
       "    }\n",
       "</style>\n",
       "<table border=\"1\" class=\"dataframe\">\n",
       "  <thead>\n",
       "    <tr style=\"text-align: right;\">\n",
       "      <th></th>\n",
       "      <th>Kematian_anak</th>\n",
       "      <th>Pendapatan</th>\n",
       "    </tr>\n",
       "  </thead>\n",
       "  <tbody>\n",
       "    <tr>\n",
       "      <th>count</th>\n",
       "      <td>167.000000</td>\n",
       "      <td>167.000000</td>\n",
       "    </tr>\n",
       "    <tr>\n",
       "      <th>mean</th>\n",
       "      <td>15.903645</td>\n",
       "      <td>7576.042414</td>\n",
       "    </tr>\n",
       "    <tr>\n",
       "      <th>std</th>\n",
       "      <td>8.743784</td>\n",
       "      <td>4464.457058</td>\n",
       "    </tr>\n",
       "    <tr>\n",
       "      <th>min</th>\n",
       "      <td>2.600000</td>\n",
       "      <td>609.000000</td>\n",
       "    </tr>\n",
       "    <tr>\n",
       "      <th>25%</th>\n",
       "      <td>8.250000</td>\n",
       "      <td>3355.000000</td>\n",
       "    </tr>\n",
       "    <tr>\n",
       "      <th>50%</th>\n",
       "      <td>15.903645</td>\n",
       "      <td>7576.042414</td>\n",
       "    </tr>\n",
       "    <tr>\n",
       "      <th>75%</th>\n",
       "      <td>24.285915</td>\n",
       "      <td>10041.760870</td>\n",
       "    </tr>\n",
       "    <tr>\n",
       "      <th>max</th>\n",
       "      <td>39.200000</td>\n",
       "      <td>18300.000000</td>\n",
       "    </tr>\n",
       "  </tbody>\n",
       "</table>\n",
       "</div>"
      ],
      "text/plain": [
       "       Kematian_anak    Pendapatan\n",
       "count     167.000000    167.000000\n",
       "mean       15.903645   7576.042414\n",
       "std         8.743784   4464.457058\n",
       "min         2.600000    609.000000\n",
       "25%         8.250000   3355.000000\n",
       "50%        15.903645   7576.042414\n",
       "75%        24.285915  10041.760870\n",
       "max        39.200000  18300.000000"
      ]
     },
     "execution_count": 20,
     "metadata": {},
     "output_type": "execute_result"
    }
   ],
   "source": [
    "df_new.describe()"
   ]
  },
  {
   "cell_type": "code",
   "execution_count": 21,
   "metadata": {},
   "outputs": [
    {
     "data": {
      "text/html": [
       "<div>\n",
       "<style scoped>\n",
       "    .dataframe tbody tr th:only-of-type {\n",
       "        vertical-align: middle;\n",
       "    }\n",
       "\n",
       "    .dataframe tbody tr th {\n",
       "        vertical-align: top;\n",
       "    }\n",
       "\n",
       "    .dataframe thead th {\n",
       "        text-align: right;\n",
       "    }\n",
       "</style>\n",
       "<table border=\"1\" class=\"dataframe\">\n",
       "  <thead>\n",
       "    <tr style=\"text-align: right;\">\n",
       "      <th></th>\n",
       "      <th>Negara</th>\n",
       "      <th>Kematian_anak</th>\n",
       "      <th>Pendapatan</th>\n",
       "      <th>Kematian_anak_Outlier</th>\n",
       "      <th>Pendapatan_Outlier</th>\n",
       "    </tr>\n",
       "  </thead>\n",
       "  <tbody>\n",
       "    <tr>\n",
       "      <th>0</th>\n",
       "      <td>Afghanistan</td>\n",
       "      <td>24.471831</td>\n",
       "      <td>1610.000000</td>\n",
       "      <td>False</td>\n",
       "      <td>False</td>\n",
       "    </tr>\n",
       "    <tr>\n",
       "      <th>1</th>\n",
       "      <td>Albania</td>\n",
       "      <td>16.600000</td>\n",
       "      <td>9930.000000</td>\n",
       "      <td>False</td>\n",
       "      <td>False</td>\n",
       "    </tr>\n",
       "    <tr>\n",
       "      <th>2</th>\n",
       "      <td>Algeria</td>\n",
       "      <td>27.300000</td>\n",
       "      <td>12900.000000</td>\n",
       "      <td>False</td>\n",
       "      <td>False</td>\n",
       "    </tr>\n",
       "    <tr>\n",
       "      <th>3</th>\n",
       "      <td>Angola</td>\n",
       "      <td>24.471831</td>\n",
       "      <td>5900.000000</td>\n",
       "      <td>False</td>\n",
       "      <td>False</td>\n",
       "    </tr>\n",
       "    <tr>\n",
       "      <th>4</th>\n",
       "      <td>Antigua and Barbuda</td>\n",
       "      <td>10.300000</td>\n",
       "      <td>7576.042414</td>\n",
       "      <td>False</td>\n",
       "      <td>False</td>\n",
       "    </tr>\n",
       "    <tr>\n",
       "      <th>...</th>\n",
       "      <td>...</td>\n",
       "      <td>...</td>\n",
       "      <td>...</td>\n",
       "      <td>...</td>\n",
       "      <td>...</td>\n",
       "    </tr>\n",
       "    <tr>\n",
       "      <th>162</th>\n",
       "      <td>Vanuatu</td>\n",
       "      <td>29.200000</td>\n",
       "      <td>2950.000000</td>\n",
       "      <td>False</td>\n",
       "      <td>False</td>\n",
       "    </tr>\n",
       "    <tr>\n",
       "      <th>163</th>\n",
       "      <td>Venezuela</td>\n",
       "      <td>17.100000</td>\n",
       "      <td>16500.000000</td>\n",
       "      <td>False</td>\n",
       "      <td>False</td>\n",
       "    </tr>\n",
       "    <tr>\n",
       "      <th>164</th>\n",
       "      <td>Vietnam</td>\n",
       "      <td>23.300000</td>\n",
       "      <td>4490.000000</td>\n",
       "      <td>False</td>\n",
       "      <td>False</td>\n",
       "    </tr>\n",
       "    <tr>\n",
       "      <th>165</th>\n",
       "      <td>Yemen</td>\n",
       "      <td>15.903645</td>\n",
       "      <td>4480.000000</td>\n",
       "      <td>False</td>\n",
       "      <td>False</td>\n",
       "    </tr>\n",
       "    <tr>\n",
       "      <th>166</th>\n",
       "      <td>Zambia</td>\n",
       "      <td>15.903645</td>\n",
       "      <td>3280.000000</td>\n",
       "      <td>False</td>\n",
       "      <td>False</td>\n",
       "    </tr>\n",
       "  </tbody>\n",
       "</table>\n",
       "<p>167 rows × 5 columns</p>\n",
       "</div>"
      ],
      "text/plain": [
       "                  Negara  Kematian_anak    Pendapatan  Kematian_anak_Outlier  \\\n",
       "0            Afghanistan      24.471831   1610.000000                  False   \n",
       "1                Albania      16.600000   9930.000000                  False   \n",
       "2                Algeria      27.300000  12900.000000                  False   \n",
       "3                 Angola      24.471831   5900.000000                  False   \n",
       "4    Antigua and Barbuda      10.300000   7576.042414                  False   \n",
       "..                   ...            ...           ...                    ...   \n",
       "162              Vanuatu      29.200000   2950.000000                  False   \n",
       "163            Venezuela      17.100000  16500.000000                  False   \n",
       "164              Vietnam      23.300000   4490.000000                  False   \n",
       "165                Yemen      15.903645   4480.000000                  False   \n",
       "166               Zambia      15.903645   3280.000000                  False   \n",
       "\n",
       "     Pendapatan_Outlier  \n",
       "0                 False  \n",
       "1                 False  \n",
       "2                 False  \n",
       "3                 False  \n",
       "4                 False  \n",
       "..                  ...  \n",
       "162               False  \n",
       "163               False  \n",
       "164               False  \n",
       "165               False  \n",
       "166               False  \n",
       "\n",
       "[167 rows x 5 columns]"
      ]
     },
     "execution_count": 21,
     "metadata": {},
     "output_type": "execute_result"
    }
   ],
   "source": [
    "df_new"
   ]
  },
  {
   "cell_type": "markdown",
   "metadata": {},
   "source": [
    "## Univariate Analysis with Histogram"
   ]
  },
  {
   "cell_type": "code",
   "execution_count": 22,
   "metadata": {},
   "outputs": [
    {
     "name": "stdout",
     "output_type": "stream",
     "text": [
      "Histogram\n"
     ]
    },
    {
     "data": {
      "image/png": "[encoded data removed]",
      "text/plain": [
       "<Figure size 720x576 with 1 Axes>"
      ]
     },
     "metadata": {
      "needs_background": "light"
     },
     "output_type": "display_data"
    }
   ],
   "source": [
    "fig, ax1 = plt.subplots()\n",
    "fig.set_size_inches(10, 8)\n",
    "print('Histogram')\n",
    "plt.hist(df_new['Kematian_anak'])\n",
    "plt.xlabel('Kematian_anak')\n",
    "plt.ylabel('Count')\n",
    "plt.show()"
   ]
  },
  {
   "cell_type": "markdown",
   "metadata": {},
   "source": [
    "`Didapatkan frekuensi Kematian_anak dari masing-masing value`"
   ]
  },
  {
   "cell_type": "code",
   "execution_count": 23,
   "metadata": {},
   "outputs": [
    {
     "name": "stdout",
     "output_type": "stream",
     "text": [
      "Histogram\n"
     ]
    },
    {
     "data": {
      "image/png": "[encoded data removed]",
      "text/plain": [
       "<Figure size 720x576 with 1 Axes>"
      ]
     },
     "metadata": {
      "needs_background": "light"
     },
     "output_type": "display_data"
    }
   ],
   "source": [
    "fig, ax1 = plt.subplots()\n",
    "fig.set_size_inches(10, 8)\n",
    "print('Histogram')\n",
    "plt.hist(df_new['Pendapatan'])\n",
    "plt.xlabel('Pendapatan')\n",
    "plt.ylabel('Count')\n",
    "plt.show()"
   ]
  },
  {
   "cell_type": "markdown",
   "metadata": {},
   "source": [
    "`Didapatkan frekuensi Pendapatan dari masing-masing value`"
   ]
  },
  {
   "cell_type": "markdown",
   "metadata": {},
   "source": [
    "## Bivariate Analysis with Scatter Plot"
   ]
  },
  {
   "cell_type": "code",
   "execution_count": 24,
   "metadata": {},
   "outputs": [
    {
     "data": {
      "text/plain": [
       "Text(0.5, 0, 'Kematian_anak')"
      ]
     },
     "execution_count": 24,
     "metadata": {},
     "output_type": "execute_result"
    },
    {
     "data": {
      "image/png": "[encoded data removed]",
      "text/plain": [
       "<Figure size 432x288 with 1 Axes>"
      ]
     },
     "metadata": {
      "needs_background": "light"
     },
     "output_type": "display_data"
    }
   ],
   "source": [
    "plt.scatter(df_new['Kematian_anak'], df_new['Pendapatan'], c='blue', label ='Cluster 1', edgecolors='yellow')\n",
    "plt.ylabel(\"Pendapatan\")\n",
    "plt.xlabel(\"Kematian_anak\")"
   ]
  },
  {
   "cell_type": "markdown",
   "metadata": {},
   "source": [
    "`Didapatkan keterkaitan Pendapatan dan Kematian_anak dari masing-masing value`"
   ]
  },
  {
   "cell_type": "markdown",
   "metadata": {},
   "source": [
    "## Clustering"
   ]
  },
  {
   "cell_type": "markdown",
   "metadata": {},
   "source": [
    "### 1. Scalling Data with MinMaxScaller"
   ]
  },
  {
   "cell_type": "code",
   "execution_count": 25,
   "metadata": {},
   "outputs": [
    {
     "name": "stderr",
     "output_type": "stream",
     "text": [
      "/var/folders/br/dnqls7751tdb97g6z28kqgxw0000gn/T/ipykernel_94418/530802698.py:5: SettingWithCopyWarning: \n",
      "A value is trying to be set on a copy of a slice from a DataFrame.\n",
      "Try using .loc[row_indexer,col_indexer] = value instead\n",
      "\n",
      "See the caveats in the documentation: https://pandas.pydata.org/pandas-docs/stable/user_guide/indexing.html#returning-a-view-versus-a-copy\n",
      "  df_new[['Kematian_anak', 'Pendapatan']] = scaler.fit_transform(df_new[['Kematian_anak', 'Pendapatan']])\n"
     ]
    },
    {
     "data": {
      "text/html": [
       "<div>\n",
       "<style scoped>\n",
       "    .dataframe tbody tr th:only-of-type {\n",
       "        vertical-align: middle;\n",
       "    }\n",
       "\n",
       "    .dataframe tbody tr th {\n",
       "        vertical-align: top;\n",
       "    }\n",
       "\n",
       "    .dataframe thead th {\n",
       "        text-align: right;\n",
       "    }\n",
       "</style>\n",
       "<table border=\"1\" class=\"dataframe\">\n",
       "  <thead>\n",
       "    <tr style=\"text-align: right;\">\n",
       "      <th></th>\n",
       "      <th>Kematian_anak</th>\n",
       "      <th>Pendapatan</th>\n",
       "    </tr>\n",
       "  </thead>\n",
       "  <tbody>\n",
       "    <tr>\n",
       "      <th>count</th>\n",
       "      <td>167.000000</td>\n",
       "      <td>167.000000</td>\n",
       "    </tr>\n",
       "    <tr>\n",
       "      <th>mean</th>\n",
       "      <td>0.363488</td>\n",
       "      <td>0.393818</td>\n",
       "    </tr>\n",
       "    <tr>\n",
       "      <th>std</th>\n",
       "      <td>0.238901</td>\n",
       "      <td>0.252358</td>\n",
       "    </tr>\n",
       "    <tr>\n",
       "      <th>min</th>\n",
       "      <td>0.000000</td>\n",
       "      <td>0.000000</td>\n",
       "    </tr>\n",
       "    <tr>\n",
       "      <th>25%</th>\n",
       "      <td>0.154372</td>\n",
       "      <td>0.155220</td>\n",
       "    </tr>\n",
       "    <tr>\n",
       "      <th>50%</th>\n",
       "      <td>0.363488</td>\n",
       "      <td>0.393818</td>\n",
       "    </tr>\n",
       "    <tr>\n",
       "      <th>75%</th>\n",
       "      <td>0.592511</td>\n",
       "      <td>0.533195</td>\n",
       "    </tr>\n",
       "    <tr>\n",
       "      <th>max</th>\n",
       "      <td>1.000000</td>\n",
       "      <td>1.000000</td>\n",
       "    </tr>\n",
       "  </tbody>\n",
       "</table>\n",
       "</div>"
      ],
      "text/plain": [
       "       Kematian_anak  Pendapatan\n",
       "count     167.000000  167.000000\n",
       "mean        0.363488    0.393818\n",
       "std         0.238901    0.252358\n",
       "min         0.000000    0.000000\n",
       "25%         0.154372    0.155220\n",
       "50%         0.363488    0.393818\n",
       "75%         0.592511    0.533195\n",
       "max         1.000000    1.000000"
      ]
     },
     "execution_count": 25,
     "metadata": {},
     "output_type": "execute_result"
    }
   ],
   "source": [
    "# Rescaling data dengan MinMaxScaler\n",
    "\n",
    "scaler = MinMaxScaler()\n",
    "\n",
    "df_new[['Kematian_anak', 'Pendapatan']] = scaler.fit_transform(df_new[['Kematian_anak', 'Pendapatan']])\n",
    "\n",
    "df_new.describe()"
   ]
  },
  {
   "cell_type": "code",
   "execution_count": 26,
   "metadata": {},
   "outputs": [],
   "source": [
    "df_new_ready = df_new[['Kematian_anak', 'Pendapatan']]"
   ]
  },
  {
   "cell_type": "code",
   "execution_count": 27,
   "metadata": {},
   "outputs": [],
   "source": [
    "X = df_new_ready.values\n"
   ]
  },
  {
   "cell_type": "markdown",
   "metadata": {},
   "source": [
    "### 2. Decide the number of clusters : Elbow Method"
   ]
  },
  {
   "cell_type": "code",
   "execution_count": 28,
   "metadata": {},
   "outputs": [
    {
     "data": {
      "image/png": "[encoded data removed]",
      "text/plain": [
       "<Figure size 576x432 with 1 Axes>"
      ]
     },
     "metadata": {
      "needs_background": "light"
     },
     "output_type": "display_data"
    }
   ],
   "source": [
    "sse = []\n",
    "k_list = []\n",
    "for k in range(1, 11):\n",
    "    kmeans = KMeans(n_clusters = k).fit(X)\n",
    "    centroids = kmeans.cluster_centers_\n",
    "    prediksi = kmeans.predict(X)\n",
    "    nilai_sse = 0\n",
    "    \n",
    "    for i in range(len(X)):\n",
    "        titik_pusat = centroids[prediksi[i]]\n",
    "        nilai_sse += (X[i, 0] - titik_pusat[0]) ** 2 + (X[i, 1] - titik_pusat[1]) ** 2\n",
    "    \n",
    "    sse.append(nilai_sse)\n",
    "    k_list.append(k)\n",
    "\n",
    "\n",
    "plt.figure(figsize=(8,6))\n",
    "plt.xlabel('Number of Clusters')\n",
    "plt.ylabel('WCSS')\n",
    "plt.plot(k_list, sse)\n",
    "plt.show()"
   ]
  },
  {
   "cell_type": "markdown",
   "metadata": {},
   "source": [
    "### 3. Clustering with K = 3"
   ]
  },
  {
   "cell_type": "code",
   "execution_count": 29,
   "metadata": {},
   "outputs": [
    {
     "name": "stdout",
     "output_type": "stream",
     "text": [
      "[1 2 2 1 0 0 1 0 0 2 0 0 1 2 0 0 1 1 1 1 0 2 2 0 2 1 1 1 1 0 1 1 1 0 2 2 1\n",
      " 1 1 0 1 0 0 0 0 2 2 2 1 2 1 0 1 0 0 2 1 1 0 1 0 2 1 1 1 1 1 0 0 1 1 2 2 0\n",
      " 0 0 1 0 2 1 1 1 0 1 1 2 2 1 1 1 0 0 0 1 1 0 0 1 0 1 2 1 1 1 0 1 1 1 0 1 0\n",
      " 0 1 1 0 0 1 2 1 2 1 0 0 0 2 0 1 1 2 1 0 0 1 0 0 0 1 2 0 0 0 2 1 2 0 0 1 1\n",
      " 2 1 1 1 2 2 2 1 0 0 0 0 2 1 1 2 1 1 1]\n"
     ]
    }
   ],
   "source": [
    "\n",
    "\n",
    "df_new_ready.shape\n",
    "\n",
    "kmeans = KMeans(n_clusters=3)\n",
    "\n",
    "label = kmeans.fit_predict(df_new_ready)\n",
    "\n",
    "print(label)"
   ]
  },
  {
   "cell_type": "code",
   "execution_count": 30,
   "metadata": {},
   "outputs": [
    {
     "data": {
      "text/plain": [
       "array([[0.59759101, 0.05658244],\n",
       "       [0.38251366, 0.52687807],\n",
       "       [0.67486339, 0.69476005],\n",
       "       [0.59759101, 0.29907863],\n",
       "       [0.21038251, 0.39381846],\n",
       "       [0.32513661, 0.39381846],\n",
       "       [0.42349727, 0.34429936],\n",
       "       [0.06010929, 0.53319546],\n",
       "       [0.04644809, 0.53319546],\n",
       "       [1.        , 0.86999039],\n",
       "       [0.30601093, 0.39381846],\n",
       "       [0.16393443, 0.53319546],\n",
       "       [0.36348758, 0.10349895],\n",
       "       [0.31693989, 0.83042225],\n",
       "       [0.07923497, 0.88129557],\n",
       "       [0.05191257, 0.53319546],\n",
       "       [0.44262295, 0.41099994],\n",
       "       [0.59759101, 0.06845289],\n",
       "       [0.36348758, 0.3284721 ],\n",
       "       [0.36348758, 0.27138093],\n",
       "       [0.11748634, 0.51500763],\n",
       "       [0.36348758, 0.71737041],\n",
       "       [0.46994536, 0.78520151],\n",
       "       [0.21584699, 0.53319546],\n",
       "       [0.22404372, 0.83042225],\n",
       "       [0.59759101, 0.04640778],\n",
       "       [0.59759101, 0.00876152],\n",
       "       [0.36348758, 0.10802103],\n",
       "       [0.59759101, 0.11593466],\n",
       "       [0.08196721, 0.53319546],\n",
       "       [0.65300546, 0.29512181],\n",
       "       [0.59759101, 0.01577073],\n",
       "       [0.59759101, 0.07467074],\n",
       "       [0.16666667, 0.39381846],\n",
       "       [0.3579235 , 0.50426771],\n",
       "       [0.43715847, 0.58170821],\n",
       "       [0.36348758, 0.04527726],\n",
       "       [0.59759101, 0.        ],\n",
       "       [0.36348758, 0.25894523],\n",
       "       [0.20765027, 0.70041264],\n",
       "       [0.59759101, 0.11763043],\n",
       "       [0.07923497, 0.39381846],\n",
       "       [0.0273224 , 0.53319546],\n",
       "       [0.02185792, 0.39381846],\n",
       "       [0.04098361, 0.53319546],\n",
       "       [0.86885246, 0.5930134 ],\n",
       "       [0.6147541 , 0.49409304],\n",
       "       [0.72404372, 0.52292126],\n",
       "       [0.45355191, 0.37821491],\n",
       "       [0.59759101, 0.53319546],\n",
       "       [0.36348758, 0.04584252],\n",
       "       [0.05191257, 0.39381846],\n",
       "       [0.58743169, 0.38104121],\n",
       "       [0.01092896, 0.53319546],\n",
       "       [0.04371585, 0.53319546],\n",
       "       [0.36348758, 0.83607484],\n",
       "       [0.36348758, 0.05940874],\n",
       "       [0.37978142, 0.34599514],\n",
       "       [0.04371585, 0.53319546],\n",
       "       [0.36348758, 0.13854502],\n",
       "       [0.03551913, 0.39381846],\n",
       "       [0.32786885, 0.59866599],\n",
       "       [0.89617486, 0.34486462],\n",
       "       [0.59759101, 0.03284156],\n",
       "       [0.59759101, 0.04414674],\n",
       "       [0.95628415, 0.29568707],\n",
       "       [0.59759101, 0.05036459],\n",
       "       [0.09289617, 0.39381846],\n",
       "       [0.        , 0.53319546],\n",
       "       [0.36348758, 0.21485501],\n",
       "       [0.83879781, 0.4420892 ],\n",
       "       [0.45628415, 0.94912667],\n",
       "       [0.93715847, 0.68345486],\n",
       "       [0.04371585, 0.53319546],\n",
       "       [0.05464481, 0.39381846],\n",
       "       [0.03825137, 0.53319546],\n",
       "       [0.42349727, 0.41778305],\n",
       "       [0.01639344, 0.53319546],\n",
       "       [0.50546448, 0.50087615],\n",
       "       [0.51639344, 0.39381846],\n",
       "       [0.36348758, 0.10575999],\n",
       "       [0.36348758, 0.06336555],\n",
       "       [0.22404372, 0.53319546],\n",
       "       [0.73770492, 0.12328303],\n",
       "       [0.36348758, 0.19054887],\n",
       "       [0.1420765 , 1.        ],\n",
       "       [0.21038251, 0.88694817],\n",
       "       [0.59759101, 0.1001074 ],\n",
       "       [0.59759101, 0.00514386],\n",
       "       [0.38251366, 0.39381846],\n",
       "       [0.09562842, 0.39381846],\n",
       "       [0.00546448, 0.53319546],\n",
       "       [0.21311475, 0.60997117],\n",
       "       [0.36348758, 0.04414674],\n",
       "       [0.59759101, 0.02379741],\n",
       "       [0.14480874, 0.39381846],\n",
       "       [0.28961749, 0.55909785],\n",
       "       [0.59759101, 0.07127918],\n",
       "       [0.1147541 , 0.39381846],\n",
       "       [0.59759101, 0.15324176],\n",
       "       [0.33879781, 0.8643378 ],\n",
       "       [0.36348758, 0.15437228],\n",
       "       [0.3989071 , 0.18659205],\n",
       "       [0.6420765 , 0.40139054],\n",
       "       [0.1147541 , 0.75693856],\n",
       "       [0.8442623 , 0.32960262],\n",
       "       [0.59759101, 0.01746651],\n",
       "       [0.36348758, 0.17585213],\n",
       "       [0.36348758, 0.44378498],\n",
       "       [0.36348758, 0.07806229],\n",
       "       [0.05191257, 0.53319546],\n",
       "       [0.09836066, 0.39381846],\n",
       "       [0.59759101, 0.01158781],\n",
       "       [0.59759101, 0.25668419],\n",
       "       [0.01639344, 0.53319546],\n",
       "       [0.24863388, 0.53319546],\n",
       "       [0.59759101, 0.20750664],\n",
       "       [0.46721311, 0.83607484],\n",
       "       [0.58743169, 0.37764965],\n",
       "       [0.48360656, 0.52857385],\n",
       "       [0.80054645, 0.28212085],\n",
       "       [0.09289617, 0.39381846],\n",
       "       [0.03551913, 0.39381846],\n",
       "       [0.17486339, 0.53319546],\n",
       "       [0.2431694 , 0.97173704],\n",
       "       [0.20218579, 0.39381846],\n",
       "       [0.36348758, 0.0418857 ],\n",
       "       [0.44535519, 0.27081567],\n",
       "       [0.3579235 , 0.53319546],\n",
       "       [0.36348758, 0.08880222],\n",
       "       [0.13661202, 0.68345486],\n",
       "       [0.32240437, 0.39381846],\n",
       "       [0.59759101, 0.03453734],\n",
       "       [0.00546448, 0.53319546],\n",
       "       [0.12021858, 0.39381846],\n",
       "       [0.01639344, 0.39381846],\n",
       "       [0.69672131, 0.06619185],\n",
       "       [0.36348758, 0.64388672],\n",
       "       [0.04098361, 0.39381846],\n",
       "       [0.03278689, 0.39381846],\n",
       "       [0.23497268, 0.44943757],\n",
       "       [0.49453552, 0.52631281],\n",
       "       [0.36348758, 0.15606806],\n",
       "       [0.58743169, 0.76824374],\n",
       "       [0.01092896, 0.53319546],\n",
       "       [0.05191257, 0.53319546],\n",
       "       [0.36348758, 0.0848454 ],\n",
       "       [0.36348758, 0.08371488],\n",
       "       [0.33606557, 0.7286756 ],\n",
       "       [0.36348758, 0.07014866],\n",
       "       [0.59759101, 0.03397208],\n",
       "       [0.40437158, 0.24707478],\n",
       "       [0.40437158, 0.55344525],\n",
       "       [0.45081967, 0.98304222],\n",
       "       [0.36348758, 0.52744333],\n",
       "       [0.36348758, 0.05262563],\n",
       "       [0.24863388, 0.40760839],\n",
       "       [0.16393443, 0.53319546],\n",
       "       [0.07103825, 0.53319546],\n",
       "       [0.1284153 , 0.53319546],\n",
       "       [0.21857923, 0.9321689 ],\n",
       "       [0.92076503, 0.20524561],\n",
       "       [0.72677596, 0.13232717],\n",
       "       [0.39617486, 0.89825335],\n",
       "       [0.56557377, 0.21937708],\n",
       "       [0.36348758, 0.21881183],\n",
       "       [0.36348758, 0.15098072]])"
      ]
     },
     "execution_count": 30,
     "metadata": {},
     "output_type": "execute_result"
    }
   ],
   "source": [
    "X"
   ]
  },
  {
   "cell_type": "markdown",
   "metadata": {},
   "source": [
    "### 4. Visualize clustering"
   ]
  },
  {
   "cell_type": "code",
   "execution_count": 31,
   "metadata": {},
   "outputs": [
    {
     "data": {
      "text/plain": [
       "<matplotlib.collections.PathCollection at 0x7fce62851910>"
      ]
     },
     "execution_count": 31,
     "metadata": {},
     "output_type": "execute_result"
    },
    {
     "data": {
      "image/png": "[encoded data removed]",
      "text/plain": [
       "<Figure size 576x432 with 1 Axes>"
      ]
     },
     "metadata": {
      "needs_background": "light"
     },
     "output_type": "display_data"
    }
   ],
   "source": [
    "\n",
    "plt.figure(figsize=(8,6))\n",
    "plt.xlabel('Kematian_anak')\n",
    "plt.ylabel('Pendapatan')\n",
    "\n",
    "plt.scatter(X[label==0, 0], X[label==0, 1], c='blue', label ='Cluster 0', edgecolors='y')\n",
    "plt.scatter(X[label==1, 0], X[label==1, 1], c='red', label ='Cluster 1',edgecolors='y')\n",
    "plt.scatter(X[label==2, 0], X[label==2, 1], c='green', label ='Cluster 2',edgecolors='y')\n",
    "plt.scatter(kmeans.cluster_centers_[:, 0], kmeans.cluster_centers_[:, 1], s=300, c='black', label = 'Centroids')"
   ]
  },
  {
   "cell_type": "code",
   "execution_count": 32,
   "metadata": {},
   "outputs": [
    {
     "data": {
      "text/html": [
       "<div>\n",
       "<style scoped>\n",
       "    .dataframe tbody tr th:only-of-type {\n",
       "        vertical-align: middle;\n",
       "    }\n",
       "\n",
       "    .dataframe tbody tr th {\n",
       "        vertical-align: top;\n",
       "    }\n",
       "\n",
       "    .dataframe thead th {\n",
       "        text-align: right;\n",
       "    }\n",
       "</style>\n",
       "<table border=\"1\" class=\"dataframe\">\n",
       "  <thead>\n",
       "    <tr style=\"text-align: right;\">\n",
       "      <th></th>\n",
       "      <th>Kematian_anak</th>\n",
       "      <th>Pendapatan</th>\n",
       "    </tr>\n",
       "  </thead>\n",
       "  <tbody>\n",
       "    <tr>\n",
       "      <th>0</th>\n",
       "      <td>0.597591</td>\n",
       "      <td>0.056582</td>\n",
       "    </tr>\n",
       "    <tr>\n",
       "      <th>1</th>\n",
       "      <td>0.382514</td>\n",
       "      <td>0.526878</td>\n",
       "    </tr>\n",
       "    <tr>\n",
       "      <th>2</th>\n",
       "      <td>0.674863</td>\n",
       "      <td>0.694760</td>\n",
       "    </tr>\n",
       "    <tr>\n",
       "      <th>3</th>\n",
       "      <td>0.597591</td>\n",
       "      <td>0.299079</td>\n",
       "    </tr>\n",
       "    <tr>\n",
       "      <th>4</th>\n",
       "      <td>0.210383</td>\n",
       "      <td>0.393818</td>\n",
       "    </tr>\n",
       "    <tr>\n",
       "      <th>...</th>\n",
       "      <td>...</td>\n",
       "      <td>...</td>\n",
       "    </tr>\n",
       "    <tr>\n",
       "      <th>162</th>\n",
       "      <td>0.726776</td>\n",
       "      <td>0.132327</td>\n",
       "    </tr>\n",
       "    <tr>\n",
       "      <th>163</th>\n",
       "      <td>0.396175</td>\n",
       "      <td>0.898253</td>\n",
       "    </tr>\n",
       "    <tr>\n",
       "      <th>164</th>\n",
       "      <td>0.565574</td>\n",
       "      <td>0.219377</td>\n",
       "    </tr>\n",
       "    <tr>\n",
       "      <th>165</th>\n",
       "      <td>0.363488</td>\n",
       "      <td>0.218812</td>\n",
       "    </tr>\n",
       "    <tr>\n",
       "      <th>166</th>\n",
       "      <td>0.363488</td>\n",
       "      <td>0.150981</td>\n",
       "    </tr>\n",
       "  </tbody>\n",
       "</table>\n",
       "<p>167 rows × 2 columns</p>\n",
       "</div>"
      ],
      "text/plain": [
       "     Kematian_anak  Pendapatan\n",
       "0         0.597591    0.056582\n",
       "1         0.382514    0.526878\n",
       "2         0.674863    0.694760\n",
       "3         0.597591    0.299079\n",
       "4         0.210383    0.393818\n",
       "..             ...         ...\n",
       "162       0.726776    0.132327\n",
       "163       0.396175    0.898253\n",
       "164       0.565574    0.219377\n",
       "165       0.363488    0.218812\n",
       "166       0.363488    0.150981\n",
       "\n",
       "[167 rows x 2 columns]"
      ]
     },
     "execution_count": 32,
     "metadata": {},
     "output_type": "execute_result"
    }
   ],
   "source": [
    "df_new_ready"
   ]
  },
  {
   "cell_type": "code",
   "execution_count": 33,
   "metadata": {},
   "outputs": [
    {
     "data": {
      "text/html": [
       "<div>\n",
       "<style scoped>\n",
       "    .dataframe tbody tr th:only-of-type {\n",
       "        vertical-align: middle;\n",
       "    }\n",
       "\n",
       "    .dataframe tbody tr th {\n",
       "        vertical-align: top;\n",
       "    }\n",
       "\n",
       "    .dataframe thead th {\n",
       "        text-align: right;\n",
       "    }\n",
       "</style>\n",
       "<table border=\"1\" class=\"dataframe\">\n",
       "  <thead>\n",
       "    <tr style=\"text-align: right;\">\n",
       "      <th></th>\n",
       "      <th>Negara</th>\n",
       "      <th>Kematian_anak</th>\n",
       "      <th>Pendapatan</th>\n",
       "      <th>Kematian_anak_Outlier</th>\n",
       "      <th>Pendapatan_Outlier</th>\n",
       "    </tr>\n",
       "  </thead>\n",
       "  <tbody>\n",
       "    <tr>\n",
       "      <th>0</th>\n",
       "      <td>Afghanistan</td>\n",
       "      <td>0.597591</td>\n",
       "      <td>0.056582</td>\n",
       "      <td>False</td>\n",
       "      <td>False</td>\n",
       "    </tr>\n",
       "    <tr>\n",
       "      <th>1</th>\n",
       "      <td>Albania</td>\n",
       "      <td>0.382514</td>\n",
       "      <td>0.526878</td>\n",
       "      <td>False</td>\n",
       "      <td>False</td>\n",
       "    </tr>\n",
       "    <tr>\n",
       "      <th>2</th>\n",
       "      <td>Algeria</td>\n",
       "      <td>0.674863</td>\n",
       "      <td>0.694760</td>\n",
       "      <td>False</td>\n",
       "      <td>False</td>\n",
       "    </tr>\n",
       "    <tr>\n",
       "      <th>3</th>\n",
       "      <td>Angola</td>\n",
       "      <td>0.597591</td>\n",
       "      <td>0.299079</td>\n",
       "      <td>False</td>\n",
       "      <td>False</td>\n",
       "    </tr>\n",
       "    <tr>\n",
       "      <th>4</th>\n",
       "      <td>Antigua and Barbuda</td>\n",
       "      <td>0.210383</td>\n",
       "      <td>0.393818</td>\n",
       "      <td>False</td>\n",
       "      <td>False</td>\n",
       "    </tr>\n",
       "    <tr>\n",
       "      <th>...</th>\n",
       "      <td>...</td>\n",
       "      <td>...</td>\n",
       "      <td>...</td>\n",
       "      <td>...</td>\n",
       "      <td>...</td>\n",
       "    </tr>\n",
       "    <tr>\n",
       "      <th>162</th>\n",
       "      <td>Vanuatu</td>\n",
       "      <td>0.726776</td>\n",
       "      <td>0.132327</td>\n",
       "      <td>False</td>\n",
       "      <td>False</td>\n",
       "    </tr>\n",
       "    <tr>\n",
       "      <th>163</th>\n",
       "      <td>Venezuela</td>\n",
       "      <td>0.396175</td>\n",
       "      <td>0.898253</td>\n",
       "      <td>False</td>\n",
       "      <td>False</td>\n",
       "    </tr>\n",
       "    <tr>\n",
       "      <th>164</th>\n",
       "      <td>Vietnam</td>\n",
       "      <td>0.565574</td>\n",
       "      <td>0.219377</td>\n",
       "      <td>False</td>\n",
       "      <td>False</td>\n",
       "    </tr>\n",
       "    <tr>\n",
       "      <th>165</th>\n",
       "      <td>Yemen</td>\n",
       "      <td>0.363488</td>\n",
       "      <td>0.218812</td>\n",
       "      <td>False</td>\n",
       "      <td>False</td>\n",
       "    </tr>\n",
       "    <tr>\n",
       "      <th>166</th>\n",
       "      <td>Zambia</td>\n",
       "      <td>0.363488</td>\n",
       "      <td>0.150981</td>\n",
       "      <td>False</td>\n",
       "      <td>False</td>\n",
       "    </tr>\n",
       "  </tbody>\n",
       "</table>\n",
       "<p>167 rows × 5 columns</p>\n",
       "</div>"
      ],
      "text/plain": [
       "                  Negara  Kematian_anak  Pendapatan  Kematian_anak_Outlier  \\\n",
       "0            Afghanistan       0.597591    0.056582                  False   \n",
       "1                Albania       0.382514    0.526878                  False   \n",
       "2                Algeria       0.674863    0.694760                  False   \n",
       "3                 Angola       0.597591    0.299079                  False   \n",
       "4    Antigua and Barbuda       0.210383    0.393818                  False   \n",
       "..                   ...            ...         ...                    ...   \n",
       "162              Vanuatu       0.726776    0.132327                  False   \n",
       "163            Venezuela       0.396175    0.898253                  False   \n",
       "164              Vietnam       0.565574    0.219377                  False   \n",
       "165                Yemen       0.363488    0.218812                  False   \n",
       "166               Zambia       0.363488    0.150981                  False   \n",
       "\n",
       "     Pendapatan_Outlier  \n",
       "0                 False  \n",
       "1                 False  \n",
       "2                 False  \n",
       "3                 False  \n",
       "4                 False  \n",
       "..                  ...  \n",
       "162               False  \n",
       "163               False  \n",
       "164               False  \n",
       "165               False  \n",
       "166               False  \n",
       "\n",
       "[167 rows x 5 columns]"
      ]
     },
     "execution_count": 33,
     "metadata": {},
     "output_type": "execute_result"
    }
   ],
   "source": [
    "df_new"
   ]
  },
  {
   "cell_type": "code",
   "execution_count": 34,
   "metadata": {},
   "outputs": [
    {
     "data": {
      "text/plain": [
       "<matplotlib.collections.PathCollection at 0x7fce71754a00>"
      ]
     },
     "execution_count": 34,
     "metadata": {},
     "output_type": "execute_result"
    },
    {
     "data": {
      "image/png": "[encoded data removed]",
      "text/plain": [
       "<Figure size 576x288 with 1 Axes>"
      ]
     },
     "metadata": {
      "needs_background": "light"
     },
     "output_type": "display_data"
    }
   ],
   "source": [
    "plt.figure(figsize=(8,4))\n",
    "plt.xlabel('Kematian_anak')\n",
    "plt.ylabel('Pendapatan')\n",
    "\n",
    "plt.scatter(X[label==1, 0], X[label==1, 1], c='red', label ='Cluster 1',edgecolors='y')"
   ]
  },
  {
   "cell_type": "code",
   "execution_count": 35,
   "metadata": {},
   "outputs": [
    {
     "name": "stderr",
     "output_type": "stream",
     "text": [
      "/var/folders/br/dnqls7751tdb97g6z28kqgxw0000gn/T/ipykernel_94418/3554158139.py:1: SettingWithCopyWarning: \n",
      "A value is trying to be set on a copy of a slice from a DataFrame.\n",
      "Try using .loc[row_indexer,col_indexer] = value instead\n",
      "\n",
      "See the caveats in the documentation: https://pandas.pydata.org/pandas-docs/stable/user_guide/indexing.html#returning-a-view-versus-a-copy\n",
      "  df_new[\"Cluster\"] = label\n"
     ]
    }
   ],
   "source": [
    "df_new[\"Cluster\"] = label"
   ]
  },
  {
   "cell_type": "code",
   "execution_count": 36,
   "metadata": {},
   "outputs": [
    {
     "data": {
      "text/html": [
       "<div>\n",
       "<style scoped>\n",
       "    .dataframe tbody tr th:only-of-type {\n",
       "        vertical-align: middle;\n",
       "    }\n",
       "\n",
       "    .dataframe tbody tr th {\n",
       "        vertical-align: top;\n",
       "    }\n",
       "\n",
       "    .dataframe thead th {\n",
       "        text-align: right;\n",
       "    }\n",
       "</style>\n",
       "<table border=\"1\" class=\"dataframe\">\n",
       "  <thead>\n",
       "    <tr style=\"text-align: right;\">\n",
       "      <th></th>\n",
       "      <th>Negara</th>\n",
       "      <th>Kematian_anak</th>\n",
       "      <th>Pendapatan</th>\n",
       "      <th>Kematian_anak_Outlier</th>\n",
       "      <th>Pendapatan_Outlier</th>\n",
       "      <th>Cluster</th>\n",
       "    </tr>\n",
       "  </thead>\n",
       "  <tbody>\n",
       "    <tr>\n",
       "      <th>0</th>\n",
       "      <td>Afghanistan</td>\n",
       "      <td>0.597591</td>\n",
       "      <td>0.056582</td>\n",
       "      <td>False</td>\n",
       "      <td>False</td>\n",
       "      <td>1</td>\n",
       "    </tr>\n",
       "    <tr>\n",
       "      <th>1</th>\n",
       "      <td>Albania</td>\n",
       "      <td>0.382514</td>\n",
       "      <td>0.526878</td>\n",
       "      <td>False</td>\n",
       "      <td>False</td>\n",
       "      <td>2</td>\n",
       "    </tr>\n",
       "    <tr>\n",
       "      <th>2</th>\n",
       "      <td>Algeria</td>\n",
       "      <td>0.674863</td>\n",
       "      <td>0.694760</td>\n",
       "      <td>False</td>\n",
       "      <td>False</td>\n",
       "      <td>2</td>\n",
       "    </tr>\n",
       "    <tr>\n",
       "      <th>3</th>\n",
       "      <td>Angola</td>\n",
       "      <td>0.597591</td>\n",
       "      <td>0.299079</td>\n",
       "      <td>False</td>\n",
       "      <td>False</td>\n",
       "      <td>1</td>\n",
       "    </tr>\n",
       "    <tr>\n",
       "      <th>4</th>\n",
       "      <td>Antigua and Barbuda</td>\n",
       "      <td>0.210383</td>\n",
       "      <td>0.393818</td>\n",
       "      <td>False</td>\n",
       "      <td>False</td>\n",
       "      <td>0</td>\n",
       "    </tr>\n",
       "    <tr>\n",
       "      <th>...</th>\n",
       "      <td>...</td>\n",
       "      <td>...</td>\n",
       "      <td>...</td>\n",
       "      <td>...</td>\n",
       "      <td>...</td>\n",
       "      <td>...</td>\n",
       "    </tr>\n",
       "    <tr>\n",
       "      <th>162</th>\n",
       "      <td>Vanuatu</td>\n",
       "      <td>0.726776</td>\n",
       "      <td>0.132327</td>\n",
       "      <td>False</td>\n",
       "      <td>False</td>\n",
       "      <td>1</td>\n",
       "    </tr>\n",
       "    <tr>\n",
       "      <th>163</th>\n",
       "      <td>Venezuela</td>\n",
       "      <td>0.396175</td>\n",
       "      <td>0.898253</td>\n",
       "      <td>False</td>\n",
       "      <td>False</td>\n",
       "      <td>2</td>\n",
       "    </tr>\n",
       "    <tr>\n",
       "      <th>164</th>\n",
       "      <td>Vietnam</td>\n",
       "      <td>0.565574</td>\n",
       "      <td>0.219377</td>\n",
       "      <td>False</td>\n",
       "      <td>False</td>\n",
       "      <td>1</td>\n",
       "    </tr>\n",
       "    <tr>\n",
       "      <th>165</th>\n",
       "      <td>Yemen</td>\n",
       "      <td>0.363488</td>\n",
       "      <td>0.218812</td>\n",
       "      <td>False</td>\n",
       "      <td>False</td>\n",
       "      <td>1</td>\n",
       "    </tr>\n",
       "    <tr>\n",
       "      <th>166</th>\n",
       "      <td>Zambia</td>\n",
       "      <td>0.363488</td>\n",
       "      <td>0.150981</td>\n",
       "      <td>False</td>\n",
       "      <td>False</td>\n",
       "      <td>1</td>\n",
       "    </tr>\n",
       "  </tbody>\n",
       "</table>\n",
       "<p>167 rows × 6 columns</p>\n",
       "</div>"
      ],
      "text/plain": [
       "                  Negara  Kematian_anak  Pendapatan  Kematian_anak_Outlier  \\\n",
       "0            Afghanistan       0.597591    0.056582                  False   \n",
       "1                Albania       0.382514    0.526878                  False   \n",
       "2                Algeria       0.674863    0.694760                  False   \n",
       "3                 Angola       0.597591    0.299079                  False   \n",
       "4    Antigua and Barbuda       0.210383    0.393818                  False   \n",
       "..                   ...            ...         ...                    ...   \n",
       "162              Vanuatu       0.726776    0.132327                  False   \n",
       "163            Venezuela       0.396175    0.898253                  False   \n",
       "164              Vietnam       0.565574    0.219377                  False   \n",
       "165                Yemen       0.363488    0.218812                  False   \n",
       "166               Zambia       0.363488    0.150981                  False   \n",
       "\n",
       "     Pendapatan_Outlier  Cluster  \n",
       "0                 False        1  \n",
       "1                 False        2  \n",
       "2                 False        2  \n",
       "3                 False        1  \n",
       "4                 False        0  \n",
       "..                  ...      ...  \n",
       "162               False        1  \n",
       "163               False        2  \n",
       "164               False        1  \n",
       "165               False        1  \n",
       "166               False        1  \n",
       "\n",
       "[167 rows x 6 columns]"
      ]
     },
     "execution_count": 36,
     "metadata": {},
     "output_type": "execute_result"
    }
   ],
   "source": [
    "df_new"
   ]
  },
  {
   "cell_type": "markdown",
   "metadata": {},
   "source": [
    "## Recomendation"
   ]
  },
  {
   "cell_type": "code",
   "execution_count": 37,
   "metadata": {},
   "outputs": [
    {
     "data": {
      "text/html": [
       "<div>\n",
       "<style scoped>\n",
       "    .dataframe tbody tr th:only-of-type {\n",
       "        vertical-align: middle;\n",
       "    }\n",
       "\n",
       "    .dataframe tbody tr th {\n",
       "        vertical-align: top;\n",
       "    }\n",
       "\n",
       "    .dataframe thead th {\n",
       "        text-align: right;\n",
       "    }\n",
       "</style>\n",
       "<table border=\"1\" class=\"dataframe\">\n",
       "  <thead>\n",
       "    <tr style=\"text-align: right;\">\n",
       "      <th></th>\n",
       "      <th>Negara</th>\n",
       "      <th>Kematian_anak</th>\n",
       "      <th>Pendapatan</th>\n",
       "      <th>Kematian_anak_Outlier</th>\n",
       "      <th>Pendapatan_Outlier</th>\n",
       "      <th>Cluster</th>\n",
       "    </tr>\n",
       "  </thead>\n",
       "  <tbody>\n",
       "    <tr>\n",
       "      <th>0</th>\n",
       "      <td>Afghanistan</td>\n",
       "      <td>0.597591</td>\n",
       "      <td>0.056582</td>\n",
       "      <td>False</td>\n",
       "      <td>False</td>\n",
       "      <td>1</td>\n",
       "    </tr>\n",
       "    <tr>\n",
       "      <th>3</th>\n",
       "      <td>Angola</td>\n",
       "      <td>0.597591</td>\n",
       "      <td>0.299079</td>\n",
       "      <td>False</td>\n",
       "      <td>False</td>\n",
       "      <td>1</td>\n",
       "    </tr>\n",
       "    <tr>\n",
       "      <th>6</th>\n",
       "      <td>Armenia</td>\n",
       "      <td>0.423497</td>\n",
       "      <td>0.344299</td>\n",
       "      <td>False</td>\n",
       "      <td>False</td>\n",
       "      <td>1</td>\n",
       "    </tr>\n",
       "    <tr>\n",
       "      <th>12</th>\n",
       "      <td>Bangladesh</td>\n",
       "      <td>0.363488</td>\n",
       "      <td>0.103499</td>\n",
       "      <td>False</td>\n",
       "      <td>False</td>\n",
       "      <td>1</td>\n",
       "    </tr>\n",
       "    <tr>\n",
       "      <th>16</th>\n",
       "      <td>Belize</td>\n",
       "      <td>0.442623</td>\n",
       "      <td>0.411000</td>\n",
       "      <td>False</td>\n",
       "      <td>False</td>\n",
       "      <td>1</td>\n",
       "    </tr>\n",
       "    <tr>\n",
       "      <th>...</th>\n",
       "      <td>...</td>\n",
       "      <td>...</td>\n",
       "      <td>...</td>\n",
       "      <td>...</td>\n",
       "      <td>...</td>\n",
       "      <td>...</td>\n",
       "    </tr>\n",
       "    <tr>\n",
       "      <th>161</th>\n",
       "      <td>Uzbekistan</td>\n",
       "      <td>0.920765</td>\n",
       "      <td>0.205246</td>\n",
       "      <td>False</td>\n",
       "      <td>False</td>\n",
       "      <td>1</td>\n",
       "    </tr>\n",
       "    <tr>\n",
       "      <th>162</th>\n",
       "      <td>Vanuatu</td>\n",
       "      <td>0.726776</td>\n",
       "      <td>0.132327</td>\n",
       "      <td>False</td>\n",
       "      <td>False</td>\n",
       "      <td>1</td>\n",
       "    </tr>\n",
       "    <tr>\n",
       "      <th>164</th>\n",
       "      <td>Vietnam</td>\n",
       "      <td>0.565574</td>\n",
       "      <td>0.219377</td>\n",
       "      <td>False</td>\n",
       "      <td>False</td>\n",
       "      <td>1</td>\n",
       "    </tr>\n",
       "    <tr>\n",
       "      <th>165</th>\n",
       "      <td>Yemen</td>\n",
       "      <td>0.363488</td>\n",
       "      <td>0.218812</td>\n",
       "      <td>False</td>\n",
       "      <td>False</td>\n",
       "      <td>1</td>\n",
       "    </tr>\n",
       "    <tr>\n",
       "      <th>166</th>\n",
       "      <td>Zambia</td>\n",
       "      <td>0.363488</td>\n",
       "      <td>0.150981</td>\n",
       "      <td>False</td>\n",
       "      <td>False</td>\n",
       "      <td>1</td>\n",
       "    </tr>\n",
       "  </tbody>\n",
       "</table>\n",
       "<p>74 rows × 6 columns</p>\n",
       "</div>"
      ],
      "text/plain": [
       "          Negara  Kematian_anak  Pendapatan  Kematian_anak_Outlier  \\\n",
       "0    Afghanistan       0.597591    0.056582                  False   \n",
       "3         Angola       0.597591    0.299079                  False   \n",
       "6        Armenia       0.423497    0.344299                  False   \n",
       "12    Bangladesh       0.363488    0.103499                  False   \n",
       "16        Belize       0.442623    0.411000                  False   \n",
       "..           ...            ...         ...                    ...   \n",
       "161   Uzbekistan       0.920765    0.205246                  False   \n",
       "162      Vanuatu       0.726776    0.132327                  False   \n",
       "164      Vietnam       0.565574    0.219377                  False   \n",
       "165        Yemen       0.363488    0.218812                  False   \n",
       "166       Zambia       0.363488    0.150981                  False   \n",
       "\n",
       "     Pendapatan_Outlier  Cluster  \n",
       "0                 False        1  \n",
       "3                 False        1  \n",
       "6                 False        1  \n",
       "12                False        1  \n",
       "16                False        1  \n",
       "..                  ...      ...  \n",
       "161               False        1  \n",
       "162               False        1  \n",
       "164               False        1  \n",
       "165               False        1  \n",
       "166               False        1  \n",
       "\n",
       "[74 rows x 6 columns]"
      ]
     },
     "execution_count": 37,
     "metadata": {},
     "output_type": "execute_result"
    }
   ],
   "source": [
    "cluster_1 = df_new[\"Cluster\"] == 1\n",
    "\n",
    "df_new[cluster_1]"
   ]
  },
  {
   "cell_type": "code",
   "execution_count": 40,
   "metadata": {},
   "outputs": [],
   "source": [
    "\n",
    "df_sorted = df_new[['Negara','Kematian_anak', 'Pendapatan']]\n",
    "df_sorted = df_new[cluster_1].sort_values(['Kematian_anak', 'Pendapatan'], ascending = [False, True])\n",
    "df_sorted.drop(['Kematian_anak_Outlier' ,'Pendapatan_Outlier'], axis=1, inplace=True)"
   ]
  },
  {
   "cell_type": "markdown",
   "metadata": {},
   "source": [
    "### Rekomendasi berdasarkan tingkat `Kematian Anak` tinggi dan tingkat `Pendapatan` rendah"
   ]
  },
  {
   "cell_type": "code",
   "execution_count": 41,
   "metadata": {},
   "outputs": [
    {
     "data": {
      "text/html": [
       "<div>\n",
       "<style scoped>\n",
       "    .dataframe tbody tr th:only-of-type {\n",
       "        vertical-align: middle;\n",
       "    }\n",
       "\n",
       "    .dataframe tbody tr th {\n",
       "        vertical-align: top;\n",
       "    }\n",
       "\n",
       "    .dataframe thead th {\n",
       "        text-align: right;\n",
       "    }\n",
       "</style>\n",
       "<table border=\"1\" class=\"dataframe\">\n",
       "  <thead>\n",
       "    <tr style=\"text-align: right;\">\n",
       "      <th></th>\n",
       "      <th>Negara</th>\n",
       "      <th>Kematian_anak</th>\n",
       "      <th>Pendapatan</th>\n",
       "      <th>Cluster</th>\n",
       "    </tr>\n",
       "  </thead>\n",
       "  <tbody>\n",
       "    <tr>\n",
       "      <th>65</th>\n",
       "      <td>Guyana</td>\n",
       "      <td>0.956284</td>\n",
       "      <td>0.295687</td>\n",
       "      <td>1</td>\n",
       "    </tr>\n",
       "    <tr>\n",
       "      <th>161</th>\n",
       "      <td>Uzbekistan</td>\n",
       "      <td>0.920765</td>\n",
       "      <td>0.205246</td>\n",
       "      <td>1</td>\n",
       "    </tr>\n",
       "    <tr>\n",
       "      <th>62</th>\n",
       "      <td>Guatemala</td>\n",
       "      <td>0.896175</td>\n",
       "      <td>0.344865</td>\n",
       "      <td>1</td>\n",
       "    </tr>\n",
       "    <tr>\n",
       "      <th>105</th>\n",
       "      <td>Morocco</td>\n",
       "      <td>0.844262</td>\n",
       "      <td>0.329603</td>\n",
       "      <td>1</td>\n",
       "    </tr>\n",
       "    <tr>\n",
       "      <th>70</th>\n",
       "      <td>Indonesia</td>\n",
       "      <td>0.838798</td>\n",
       "      <td>0.442089</td>\n",
       "      <td>1</td>\n",
       "    </tr>\n",
       "  </tbody>\n",
       "</table>\n",
       "</div>"
      ],
      "text/plain": [
       "         Negara  Kematian_anak  Pendapatan  Cluster\n",
       "65       Guyana       0.956284    0.295687        1\n",
       "161  Uzbekistan       0.920765    0.205246        1\n",
       "62    Guatemala       0.896175    0.344865        1\n",
       "105     Morocco       0.844262    0.329603        1\n",
       "70    Indonesia       0.838798    0.442089        1"
      ]
     },
     "execution_count": 41,
     "metadata": {},
     "output_type": "execute_result"
    }
   ],
   "source": [
    "\n",
    "df_sorted.head()"
   ]
  },
  {
   "cell_type": "code",
   "execution_count": null,
   "metadata": {},
   "outputs": [],
   "source": []
  }
 ],
 "metadata": {
  "kernelspec": {
   "display_name": "Python 3.9.12 ('base')",
   "language": "python",
   "name": "python3"
  },
  "language_info": {
   "codemirror_mode": {
    "name": "ipython",
    "version": 3
   },
   "file_extension": ".py",
   "mimetype": "text/x-python",
   "name": "python",
   "nbconvert_exporter": "python",
   "pygments_lexer": "ipython3",
   "version": "3.9.12"
  },
  "orig_nbformat": 4,
  "vscode": {
   "interpreter": {
    "hash": "8b9e12ecbfc5edc6a188f52f19b8ac0656fdf1f2dbeaf1026fff7bc523c5282d"
   }
  }
 },
 "nbformat": 4,
 "nbformat_minor": 2
}
