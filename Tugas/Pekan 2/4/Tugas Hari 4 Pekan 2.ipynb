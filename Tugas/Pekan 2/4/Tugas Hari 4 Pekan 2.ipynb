{
  "cells": [
    {
      "cell_type": "markdown",
      "metadata": {
        "id": "7bOZ5F8GOmQZ"
      },
      "source": [
        "# Data Merging"
      ]
    },
    {
      "cell_type": "markdown",
      "metadata": {
        "id": "Kn2L7gz1Cjak"
      },
      "source": [
        "<h2>Soal 1: Penggabungan Data</h2>\n",
        "\n",
        "- Sebutkan perbedaan antara full outer join, inner join, dan left join"
      ]
    },
    {
      "cell_type": "markdown",
      "metadata": {
        "id": "b_pAgPNYOqpa"
      },
      "source": []
    },
    {
      "cell_type": "markdown",
      "metadata": {
        "id": "H8k-jVewCjax"
      },
      "source": [
        "<h2>Soal 2: Penggabungan Data</h2>\n",
        "\n",
        "Pada quiz no 2 ini gunakan data [names1881.csv](https://drive.google.com/uc?export=download&id=1Pwu3cv93hI79jmi52kJ05xhophknDKat) dan [names1981.csv](https://drive.google.com/uc?export=download&id=1pvsGaybr423hJXcN35e5nS3sg4ha4jo3), data ini berisi nama bayi yang lahir pada tahun 1881 atau 1981 di Amerika.\n",
        "\n",
        "- Baca data tersebut dengan memberikan nama column 'Name', 'Gender', 'Count'.\n",
        "- Tunjukan jumlah dimensi dari data 'names1881.csv' dan 'names1981.csv'\n",
        "- Gabungkan kedua data tersebut berdasarkan sumbu baris\n",
        "- Tunjukan jumlah dimensi dari data setelah di gabungkan."
      ]
    },
    {
      "cell_type": "code",
      "execution_count": 9,
      "metadata": {
        "id": "8si0JGpXPCNx"
      },
      "outputs": [
        {
          "name": "stdout",
          "output_type": "stream",
          "text": [
            "Jumlah Dimensi data 'names1881.csv' :\n",
            "(1935, 3)\n",
            "Jumlah Baris data 'names1981.csv' :\n",
            "(19455, 3)\n",
            "            Name Gender  Count\n",
            "0           Mary      F   6919\n",
            "1           Anna      F   2698\n",
            "2           Emma      F   2034\n",
            "3      Elizabeth      F   1852\n",
            "4       Margaret      F   1658\n",
            "...          ...    ...    ...\n",
            "19450   Zeferino      M      5\n",
            "19451    Zerrick      M      5\n",
            "19452   Zimbabwe      M      5\n",
            "19453     Zoltan      M      5\n",
            "19454     Zuriel      M      5\n",
            "\n",
            "[21390 rows x 3 columns]\n",
            "Jumlah dimensi data setelah penggabungan : \n",
            "(21390, 3)\n"
          ]
        }
      ],
      "source": [
        "import pandas as pd\n",
        "# read data\n",
        "\n",
        "df1 = pd.read_csv('names1881.csv', names=['Name', 'Gender', 'Count'])\n",
        "df2 = pd.read_csv('names1981.csv', names=['Name', 'Gender', 'Count'])\n",
        "\n",
        "# periksa dimensi dari kedua data\n",
        "print(\"Jumlah Dimensi data 'names1881.csv' :\")\n",
        "print(df1.shape)\n",
        "print(\"Jumlah Baris data 'names1981.csv' :\")\n",
        "print(df2.shape)\n",
        "\n",
        "# gabungkan data\n",
        "df = [df1, df2]\n",
        "df = pd.concat(df)\n",
        "print(df)\n",
        "\n",
        "\n",
        "# periksa dimensi data hasil gabungan\n",
        "print(\"Jumlah dimensi data setelah penggabungan : \")\n",
        "print(df.shape)\n"
      ]
    },
    {
      "cell_type": "markdown",
      "metadata": {
        "id": "vxp88Xe5CjbF"
      },
      "source": [
        "Expected Result: \n",
        "\n",
        "Jumlah Dimensi data 'names1881.csv': \n",
        "\n",
        "(1935, 3)\n",
        "\n",
        "Jumlah Baris data 'names1981.csv':\n",
        "\n",
        "(19455, 3)\n",
        "\n",
        "![alt text](https://drive.google.com/uc?id=1jMCAdLrcJubjufydZBnzdQkYqDS3Klat)\n",
        "\n",
        "Jumlah dimensi data setelah penggabungan : \n",
        "\n",
        "(21390, 3)"
      ]
    },
    {
      "cell_type": "markdown",
      "metadata": {
        "id": "yALBDvlQCjbJ"
      },
      "source": [
        "<h2>Soal 3: Penggabungan Data</h2>\n",
        "\n",
        "Lakukan jenis penggabungan data full outer join, inner join, left outer join dan right outer join pada kedua data berikut: "
      ]
    },
    {
      "cell_type": "code",
      "execution_count": null,
      "metadata": {
        "colab": {
          "base_uri": "https://localhost:8080/"
        },
        "id": "GQtYaV1gCjbM",
        "outputId": "ac09563e-785a-478e-b90e-7dae0e86667a"
      },
      "outputs": [
        {
          "name": "stdout",
          "output_type": "stream",
          "text": [
            "   id Feature1 Feature2\n",
            "0   1       a1       b1\n",
            "1   2       a2       b2\n",
            "2   3       a3       b3\n",
            "3   4       a4       b4\n",
            "   id Feature3\n",
            "0   3       c1\n",
            "1   4       c2\n",
            "2   5       c3\n",
            "3   6       c4\n",
            "4   7       c5\n"
          ]
        }
      ],
      "source": [
        "import pandas as pd\n",
        "\n",
        "data1 = {\n",
        "    'id' : [1, 2, 3, 4],\n",
        "    'Feature1' : ['a1', 'a2', 'a3', 'a4'],\n",
        "    'Feature2' : ['b1', 'b2', 'b3', 'b4']\n",
        "}\n",
        "\n",
        "data2 = {\n",
        "    'id' : [3, 4, 5 ,6, 7],\n",
        "    'Feature3' : ['c1', 'c2', 'c3', 'c4', 'c5']\n",
        "}\n",
        "\n",
        "df1= pd.DataFrame(data1)\n",
        "df2= pd.DataFrame(data2)\n",
        "\n",
        "print(df1)\n",
        "print(df2)"
      ]
    },
    {
      "cell_type": "code",
      "execution_count": null,
      "metadata": {
        "id": "B88bxv0jPG_J"
      },
      "outputs": [],
      "source": [
        "#join data\n",
        "df_outer_join =\n",
        "print(df_outer_join)\n",
        "\n",
        "df_inner_join =\n",
        "print(df_inner_join)\n",
        "\n",
        "df_left_join =\n",
        "print(df_left_join)\n",
        "\n",
        "df_right_join =\n",
        "print(df_right_join)"
      ]
    },
    {
      "cell_type": "markdown",
      "metadata": {
        "id": "p2YbxGt8Cjb1"
      },
      "source": [
        "Expected Result:\n",
        "\n",
        "![alt text](https://drive.google.com/uc?id=1kUpkzWh3Y-X_1H1QXHiccdHf4YjqXsDu)\n",
        "\n",
        "![alt text](https://drive.google.com/uc?id=1ojoAC2oX9P3ZHl0lS3RXipd7gShLOmmC)\n",
        "\n",
        "![alt text](https://drive.google.com/uc?id=12jDnQzIosn6dizVwl2nPMX1IhhyEZ4FA)\n",
        "\n",
        "![alt text](https://drive.google.com/uc?id=11znqscNsVZ-cHY-PPgoHEBDWyc6XRtAL)"
      ]
    },
    {
      "cell_type": "markdown",
      "metadata": {
        "id": "2hfhFcsACjb4"
      },
      "source": [
        "<h2>Soal 4: Penggabungan Data berbeda label column Key</h2>\n",
        "\n",
        "Lakukan jenis penggabungan inner join untuk 2 data yang memiliki nama column key yang berbeda ini:"
      ]
    },
    {
      "cell_type": "code",
      "execution_count": null,
      "metadata": {
        "colab": {
          "base_uri": "https://localhost:8080/"
        },
        "id": "9eE1RWfKCjb9",
        "outputId": "58b2d1dc-2f5e-45a5-ae19-25ec401a7369"
      },
      "outputs": [
        {
          "name": "stdout",
          "output_type": "stream",
          "text": [
            "   key_data1 Feature1 Feature2\n",
            "0          1       a1       b1\n",
            "1          2       a2       b2\n",
            "2          3       a3       b3\n",
            "3          4       a4       b4\n",
            "   key_data2 Feature3\n",
            "0          3       c1\n",
            "1          4       c2\n",
            "2          5       c3\n",
            "3          6       c4\n",
            "4          7       c5\n"
          ]
        }
      ],
      "source": [
        "data1 = {\n",
        "    'key_data1' : [1, 2, 3, 4],\n",
        "    'Feature1' : ['a1', 'a2', 'a3', 'a4'],\n",
        "    'Feature2' : ['b1', 'b2', 'b3', 'b4']\n",
        "}\n",
        "\n",
        "data2 = {\n",
        "    'key_data2' : [3, 4, 5 ,6, 7],\n",
        "    'Feature3' : ['c1', 'c2', 'c3', 'c4', 'c5']\n",
        "}\n",
        "\n",
        "df1= pd.DataFrame(data1)\n",
        "df2= pd.DataFrame(data2)\n",
        "\n",
        "print(df1)\n",
        "print(df2)"
      ]
    },
    {
      "cell_type": "code",
      "execution_count": null,
      "metadata": {
        "id": "iY3WHAS1Pds8"
      },
      "outputs": [],
      "source": [
        "# Gabungkan kedua data tersebut\n"
      ]
    },
    {
      "cell_type": "markdown",
      "metadata": {
        "id": "KP38kgIBCjco"
      },
      "source": [
        "Expected Result:\n",
        "\n",
        "![alt text](https://drive.google.com/uc?id=1uBiVOPnqns4al88FDc0ENIeTzIxP4wxH)"
      ]
    },
    {
      "cell_type": "markdown",
      "metadata": {
        "id": "oGvaOGEkPikI"
      },
      "source": [
        "\n",
        "\n",
        "---\n",
        "\n",
        "\n",
        "\n",
        "---\n",
        "\n"
      ]
    },
    {
      "cell_type": "markdown",
      "metadata": {
        "id": "rEXcThCVPl6d"
      },
      "source": [
        "# Data GroupBy"
      ]
    },
    {
      "cell_type": "markdown",
      "metadata": {
        "id": "oemegzfuP03X"
      },
      "source": [
        "<b>Note</b>: Pada kuis kali ini kita akan menggunakan data diamonds.csv yang bisa kalian download [disini](https://drive.google.com/uc?export=download&id=1qQiM9utQUThTPq8jk8stPMh_y2zfqYOd). setelah di download, kalian pindahkan data tersebut satu level dengan direktori file notebook ini."
      ]
    },
    {
      "cell_type": "code",
      "execution_count": null,
      "metadata": {
        "id": "YeSPq8BqPjbQ"
      },
      "outputs": [],
      "source": [
        "import pandas as pd\n",
        "df = pd.read_csv('diamonds.csv')\n",
        "df.drop('Unnamed: 0', axis=1, inplace=True)"
      ]
    },
    {
      "cell_type": "code",
      "execution_count": null,
      "metadata": {
        "id": "lA4SconBP8Yd"
      },
      "outputs": [],
      "source": [
        "df.head()"
      ]
    },
    {
      "cell_type": "markdown",
      "metadata": {
        "id": "meNu932TP_N0"
      },
      "source": [
        "Columns Metadata:\n",
        "\n",
        "carat: berat diamond\n",
        "\n",
        "cut: kualitas diamond\n",
        "\n",
        "color: warna diamond\n",
        "\n",
        "clarity: level kemurnian diamonds\n",
        "\n",
        "depth: tinggi dari diamond tabel\n",
        "\n",
        "table: lebar  dari diamond tabel\n",
        "\n",
        "price: harga diamond ($US)\n",
        "\n",
        "x: panjang\n",
        "\n",
        "y: lebar\n",
        "\n",
        "z: kedalaaman"
      ]
    },
    {
      "cell_type": "markdown",
      "metadata": {
        "id": "KXJAQzjMQHZr"
      },
      "source": [
        "<h2>Soal 5: Process Grouping</h2>\n",
        "\n",
        "Jelaskan prosess yang terjadi dalam grouping data menggungkan method <b>groupby()</b> dari pandas."
      ]
    },
    {
      "cell_type": "markdown",
      "metadata": {
        "id": "mvD-Jh1QQL3b"
      },
      "source": [
        "jawab:\n"
      ]
    },
    {
      "cell_type": "markdown",
      "metadata": {
        "id": "ArvG5cotQXdO"
      },
      "source": [
        "<h2>Soal 6: Grouping All Column</h2>\n",
        "    \n",
        "Group data diamond berdasarkan cut (kualitas), lakukan aggregasi dengan fungsi rata2.\n"
      ]
    },
    {
      "cell_type": "code",
      "execution_count": null,
      "metadata": {
        "id": "2xo1Z1T4QDy_"
      },
      "outputs": [],
      "source": [
        "#code here\n"
      ]
    },
    {
      "cell_type": "markdown",
      "metadata": {
        "id": "rG0-0_e7Qfwk"
      },
      "source": [
        "Expected Output:\n",
        "\n",
        "![alt text](https://drive.google.com/uc?id=1GKanuLzNv_pYBFVRBmQywxQw39uQBvSl)"
      ]
    },
    {
      "cell_type": "markdown",
      "metadata": {
        "id": "_TTqgal1QkUE"
      },
      "source": [
        "<h2>Soal 7: Grouping Some Column base on Multiple Criteria</h2>\n",
        "    \n",
        "Lakukan groupby pada data berdasarkan kriteria cut (kualitas) dan color (warna) secara berurutan, dengan aggregasi pada column carat, table, dan price saja. dengan fungsi agregasi rata-rata."
      ]
    },
    {
      "cell_type": "code",
      "execution_count": null,
      "metadata": {
        "id": "kbzCkQnfQcUb"
      },
      "outputs": [],
      "source": [
        "#code here"
      ]
    },
    {
      "cell_type": "markdown",
      "metadata": {
        "id": "a5SZYCkWQvDo"
      },
      "source": [
        "Expected Output:\n",
        "\n",
        "Note: gambar hanya sebagaian dari keseluruhan data\n",
        "\n",
        "![alt text](https://drive.google.com/uc?id=1XB_uHor7ZCPQUH9uQjSfd6aC6_yJnjh9)"
      ]
    },
    {
      "cell_type": "markdown",
      "metadata": {
        "id": "7pkvSYNHQ15o"
      },
      "source": [
        "<h2>Soal 8: Group By Multiple Aggregate Base on Multiple Criteria</h2>\n",
        "    \n",
        "Lakukan groupby pada data berdasarkan kriteria cut(kualitas) dan color (warna) secara berurutan kemudian aggregasi objek group by nya dengan fungsi rata2 dan median."
      ]
    },
    {
      "cell_type": "code",
      "execution_count": null,
      "metadata": {
        "id": "k0ZUCMmWQz8D"
      },
      "outputs": [],
      "source": [
        "#code here"
      ]
    },
    {
      "cell_type": "markdown",
      "metadata": {
        "id": "4FtwXivhQ9Ct"
      },
      "source": [
        "Expected Output:\n",
        "\n",
        "Note : gambar hanya sebagaian dari keseluruhan data\n",
        "\n",
        "![alt text](https://drive.google.com/uc?id=1fUPIse5ELrzj26ZyWBqsAVOUb6yf7UoD)"
      ]
    },
    {
      "cell_type": "markdown",
      "metadata": {
        "id": "KW4qVlZQRBAi"
      },
      "source": [
        "<h2>Soal 9: Group By With Different Aggregation for specific Column</h2>\n",
        "    \n",
        "Lakukan groupby pada data berdasarkan criteria cut(kualitas), kemudian aggreagate dengan fungsi max pada column price dan fungsi min pada column carat."
      ]
    },
    {
      "cell_type": "code",
      "execution_count": null,
      "metadata": {
        "id": "v1oDVIq2Q_2n"
      },
      "outputs": [],
      "source": [
        "#code here"
      ]
    },
    {
      "cell_type": "markdown",
      "metadata": {
        "id": "b6gVroUXRPcG"
      },
      "source": [
        "Expected Output:\n",
        "\n",
        "![alt text](https://drive.google.com/uc?id=1B_z5PBkLe4hNJJJV3JgDGP9G--llytKf)"
      ]
    },
    {
      "cell_type": "markdown",
      "metadata": {
        "id": "dZUS7KJkRRCK"
      },
      "source": [
        "<h2>Soal 10: Group By With Custom Function</h2>\n",
        "    \n",
        "Lakukan groupby pada data berdasarkan criteria cut(kualitas), kemudian lakukan aggregasi dengan fungsi standar deviasi pada column carat dan fungsi rentang nilai antara max dan min pada column price."
      ]
    },
    {
      "cell_type": "code",
      "execution_count": null,
      "metadata": {
        "id": "ia_focmHRQCL"
      },
      "outputs": [],
      "source": [
        "#code here"
      ]
    },
    {
      "cell_type": "markdown",
      "metadata": {
        "id": "9zXQxOdgRYD8"
      },
      "source": [
        "Expected Output:\n",
        "\n",
        "![alt text](https://drive.google.com/uc?id=1bl6_8KryXCxLfzpAf4YF80Qvt15a3uQ6)"
      ]
    },
    {
      "cell_type": "markdown",
      "metadata": {
        "id": "T5S8H2xmRd1a"
      },
      "source": [
        "\n",
        "\n",
        "---\n",
        "\n",
        "\n",
        "\n",
        "---\n",
        "\n"
      ]
    }
  ],
  "metadata": {
    "accelerator": "GPU",
    "colab": {
      "collapsed_sections": [],
      "name": "Tugas Hari 4 Pekan 2.ipynb",
      "provenance": []
    },
    "kernelspec": {
      "display_name": "Python 3.9.12 ('base')",
      "language": "python",
      "name": "python3"
    },
    "language_info": {
      "codemirror_mode": {
        "name": "ipython",
        "version": 3
      },
      "file_extension": ".py",
      "mimetype": "text/x-python",
      "name": "python",
      "nbconvert_exporter": "python",
      "pygments_lexer": "ipython3",
      "version": "3.9.12"
    },
    "vscode": {
      "interpreter": {
        "hash": "8b9e12ecbfc5edc6a188f52f19b8ac0656fdf1f2dbeaf1026fff7bc523c5282d"
      }
    }
  },
  "nbformat": 4,
  "nbformat_minor": 0
}
