{
 "cells": [
  {
   "cell_type": "code",
   "execution_count": 6,
   "metadata": {},
   "outputs": [
    {
     "name": "stdout",
     "output_type": "stream",
     "text": [
      "['monopoli', 'monopoli', 'monopoli', 'catur', 'catur', 'catur', 'catur', 'catur', 'catur', 'catur', 'monopoli', 'monopoli', 'monopoli', 'monopoli', 'monopoli', 'monopoli', 'monopoli', 'monopoli', 'monopoli', 'monopoli', 'monopoli', 'monopoli', 'monopoli', 'monopoli', 'monopoli', 'monopoli', 'monopoli', 'monopoli', 'monopoli', 'monopoli', 'monopoli', 'monopoli', 'monopoli', 'monopoli', 'monopoli', 'monopoli', 'monopoli', 'monopoli', 'monopoli', 'monopoli', 'monopoli', 'monopoli', 'monopoli', 'monopoli', 'monopoli', 'monopoli', 'monopoli', 'monopoli', 'monopoli', 'monopoli', 'monopoli', 'monopoli', 'monopoli', 'monopoli', 'monopoli', 'monopoli', 'monopoli', 'monopoli', 'monopoli', 'monopoli', 'monopoli', 'monopoli', 'monopoli', 'monopoli', 'monopoli', 'monopoli', 'monopoli', 'monopoli', 'monopoli', 'monopoli', 'monopoli', 'monopoli', 'monopoli', 'monopoli', 'monopoli', 'monopoli', 'monopoli', 'monopoli', 'monopoli', 'monopoli', 'monopoli', 'monopoli', 'monopoli', 'monopoli', 'monopoli', 'monopoli', 'monopoli', 'monopoli', 'monopoli', 'monopoli', 'monopoli', 'monopoli', 'monopoli', 'monopoli', 'monopoli', 'monopoli', 'monopoli', 'monopoli', 'monopoli', 'monopoli', 'remi', 'remi', 'remi', 'remi', 'remi']\n"
     ]
    }
   ],
   "source": [
    "mainan = ['uno' ,'remi', 'catur', 'monopoli', 'ludo']\n",
    "\n",
    "for i in range(100):\n",
    "    mainan.append('monopoli')\n",
    "\n",
    "for i in range(5):\n",
    "\n",
    "    mainan.pop(3)\n",
    "\n",
    "for i in range(5):\n",
    "    mainan.extend(['remi'])\n",
    "\n",
    "for i in range(7):\n",
    "    mainan.insert(10,'catur')\n",
    "\n",
    "for i in range(7):\n",
    "    del mainan[0:1]\n",
    "\n",
    "print(mainan)"
   ]
  },
  {
   "cell_type": "code",
   "execution_count": 8,
   "metadata": {},
   "outputs": [
    {
     "name": "stdout",
     "output_type": "stream",
     "text": [
      "93\n",
      "7\n",
      "5\n",
      "0\n",
      "0\n"
     ]
    }
   ],
   "source": [
    "print(mainan.count('monopoli'))\n",
    "print(mainan.count('catur'))\n",
    "print(mainan.count('remi'))\n",
    "print(mainan.count('ludo'))\n",
    "print(mainan.count('uno'))"
   ]
  },
  {
   "cell_type": "code",
   "execution_count": 18,
   "metadata": {},
   "outputs": [
    {
     "name": "stdout",
     "output_type": "stream",
     "text": [
      "jumlah peserta Data science adalah 2 laki2 dan 3 perempuan\n",
      "jumlah peserta UI / UX design adalah 2 laki2 dan 3 perempuan\n",
      "jumlah peserta Agile development adalah 2 laki2 dan 3 perempuan\n",
      "jumlah peserta Laravel development adalah 2 laki2 dan 3 perempuan\n",
      "jumlah peserta Wordpress adalah 2 laki2 dan 3 perempuan\n"
     ]
    }
   ],
   "source": [
    "peserta = {\n",
    "    'Data science' : { 'peserta ' : 300 , 'peserta_1' : 100 , 'peserta_2' : 200 } ,\n",
    "    'UI / UX design' : { 'peserta' : 220 , 'peserta_1' : 100 , 'peserta_2' : 120 } ,\n",
    "    'Agile development' : { 'peserta' : 175 , 'peserta_1' : 90 , 'peserta_2' : 85 } ,\n",
    "    'Laravel development' : { 'peserta' : 250 , 'peserta_1': 100, 'peserta_2' : 150 } ,\n",
    "    'Wordpress' : {'peserta' : 150 , 'peserta_1' : 75 , 'peserta_2' : 75 }\n",
    "}\n",
    "\n",
    "def sanbercode(a):\n",
    "    for k,v in a.items():\n",
    "        print('jumlah peserta {0} adalah {1} laki2 dan {2} perempuan'.format(k, v['peserta_1'], v['perserta_1']))\n",
    "\n",
    "\n",
    "sanbercode(peserta)"
   ]
  },
  {
   "cell_type": "code",
   "execution_count": 24,
   "metadata": {},
   "outputs": [
    {
     "name": "stdout",
     "output_type": "stream",
     "text": [
      "[]\n",
      "[]\n",
      "[]\n",
      "[]\n",
      "['Bandung']\n"
     ]
    }
   ],
   "source": [
    "list_kota = ['Jakarta','Bandung','Bogor','Medan']\n",
    "\n",
    "print([kota for kota in list_kota if len(kota)%2==0 and kota[0]=='B' and kota[-1]=='g'])\n",
    "print([kota for kota in list_kota if len(kota)%2!=0 and kota[0]=='B' and kota[1]=='g'])\n",
    "print([kota for kota in list_kota if len(kota)%2==0 and kota[0]=='B' and kota[6]=='g'])\n",
    "print([kota for kota in list_kota if len(kota)%2!=0 and kota[1]=='B' and kota[-1]=='g'])\n",
    "print([kota for kota in list_kota if len(kota)%2!=0 and kota[0]=='B' and kota[-1]=='g'])"
   ]
  },
  {
   "cell_type": "code",
   "execution_count": 35,
   "metadata": {},
   "outputs": [
    {
     "name": "stdout",
     "output_type": "stream",
     "text": [
      "[2, 3]\n"
     ]
    }
   ],
   "source": [
    "\n",
    "list_1 = [1,2,3]\n",
    "\n",
    "list_2 = [3,2,4]\n",
    "\n",
    "list_3 = [i for i in list_1 if i in list_2]\n",
    "\n",
    "print(list_3)"
   ]
  },
  {
   "cell_type": "code",
   "execution_count": null,
   "metadata": {},
   "outputs": [],
   "source": []
  }
 ],
 "metadata": {
  "kernelspec": {
   "display_name": "Python 3.9.12 ('base')",
   "language": "python",
   "name": "python3"
  },
  "language_info": {
   "codemirror_mode": {
    "name": "ipython",
    "version": 3
   },
   "file_extension": ".py",
   "mimetype": "text/x-python",
   "name": "python",
   "nbconvert_exporter": "python",
   "pygments_lexer": "ipython3",
   "version": "3.9.12"
  },
  "orig_nbformat": 4,
  "vscode": {
   "interpreter": {
    "hash": "8b9e12ecbfc5edc6a188f52f19b8ac0656fdf1f2dbeaf1026fff7bc523c5282d"
   }
  }
 },
 "nbformat": 4,
 "nbformat_minor": 2
}
